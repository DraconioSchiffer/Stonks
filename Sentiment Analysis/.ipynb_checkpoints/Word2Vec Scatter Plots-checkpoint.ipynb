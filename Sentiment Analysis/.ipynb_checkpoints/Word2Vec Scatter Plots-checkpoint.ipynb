{
 "cells": [
  {
   "cell_type": "code",
   "execution_count": 1,
   "metadata": {},
   "outputs": [
    {
     "name": "stderr",
     "output_type": "stream",
     "text": [
      "C:\\Users\\Medha Joshi\\Anaconda3\\lib\\site-packages\\h5py\\__init__.py:36: FutureWarning: Conversion of the second argument of issubdtype from `float` to `np.floating` is deprecated. In future, it will be treated as `np.float64 == np.dtype(float).type`.\n",
      "  from ._conv import register_converters as _register_converters\n",
      "Using TensorFlow backend.\n"
     ]
    }
   ],
   "source": [
    "import pandas as pd \n",
    "import numpy as np \n",
    "from copy import deepcopy\n",
    "from string import punctuation\n",
    "from random import shuffle\n",
    "import gensim\n",
    "from gensim.models.word2vec import Word2Vec # the word2vec model gensim class\n",
    "from tqdm import tqdm\n",
    "from nltk.tokenize import TweetTokenizer # a tweet tokenizer from nltk.\n",
    "from sklearn.model_selection import train_test_split\n",
    "from sklearn.feature_extraction.text import TfidfVectorizer\n",
    "from keras.preprocessing.text import Tokenizer\n",
    "from nltk.tokenize import word_tokenize\n",
    "import bokeh.plotting as bp\n",
    "from bokeh.models import HoverTool, BoxSelectTool\n",
    "from bokeh.plotting import figure, show, output_notebook\n",
    "import re"
   ]
  },
  {
   "cell_type": "code",
   "execution_count": 2,
   "metadata": {},
   "outputs": [],
   "source": [
    "pd.options.mode.chained_assignment = None\n",
    "tokenizer = TweetTokenizer()\n",
    "tqdm.pandas(desc=\"progress-bar\")\n",
    "LabeledSentence = gensim.models.doc2vec.LabeledSentence\n",
    "n = 2569\n",
    "n_dim=200"
   ]
  },
  {
   "cell_type": "code",
   "execution_count": 3,
   "metadata": {},
   "outputs": [],
   "source": [
    "# Import Data\n",
    "data = pd.read_csv(\"tweetdata.csv\")\n",
    "data.columns = ['SentimentText', 'Sentiment']\n",
    "data = data[1::2]\n",
    "data['SentimentText'] = data[data['SentimentText'].isnull() == False]"
   ]
  },
  {
   "cell_type": "code",
   "execution_count": 6,
   "metadata": {},
   "outputs": [],
   "source": [
    "def tokenize(tweet):\n",
    "    tweet = tweet.lower()\n",
    "    tweet = re.sub('((www\\.[^\\s]+)|(https?://[^\\s]+))', 'URL', tweet)\n",
    "    tweet = re.sub('@[^\\s]+', 'AT_USER', tweet)\n",
    "    tweet = re.sub(r'#([^\\s]+)', r'\\1', tweet) \n",
    "    tokens = tokenizer.tokenize(tweet)\n",
    "    return tokens\n",
    "\n",
    "\n",
    "def postprocess(data, n=2659):\n",
    "    data = data.head(n)\n",
    "    data['tokens'] = data['SentimentText'].progress_map(tokenize)  ## progress_map is a variant of the map function plus a progress bar. Handy to monitor DataFrame creations.\n",
    "    #data = data[data.tokens != 'NC']\n",
    "    data.reset_index(inplace=True)\n",
    "    data.drop('index', inplace=True, axis=1)\n",
    "    return data"
   ]
  },
  {
   "cell_type": "code",
   "execution_count": 7,
   "metadata": {},
   "outputs": [
    {
     "name": "stderr",
     "output_type": "stream",
     "text": [
      "progress-bar: 100%|█████████████████████████████████████████████████████████████| 2659/2659 [00:00<00:00, 15500.86it/s]"
     ]
    },
    {
     "name": "stdout",
     "output_type": "stream",
     "text": [
      "                                          SentimentText Sentiment  \\\n",
      "0     Hilarious @youtube video - guy does a duet wit...  positive   \n",
      "1     @RIM you made it too easy for me to switch to ...  positive   \n",
      "2     The 16 strangest things Siri has said so far. ...  positive   \n",
      "3     Great up close & personal event @Apple tonight...  positive   \n",
      "4     From which companies do you experience the bes...  positive   \n",
      "...                                                 ...       ...   \n",
      "2654   #Tweetdeck working but not #Twitter for #Android   neutral   \n",
      "2655           gud mrng #twitter & all my frnds too. ;)   neutral   \n",
      "2656  Increase your #twitter followers and or your #...   neutral   \n",
      "2657  62 Ways to Use #Twitter for Business: http://t...   neutral   \n",
      "2658  It's almost 4:20. Where is your bong? Is it pa...   neutral   \n",
      "\n",
      "                                                 tokens  \n",
      "0     [hilarious, AT_USER, video, -, guy, does, a, d...  \n",
      "1     [AT_USER, you, made, it, too, easy, for, me, t...  \n",
      "2     [the, 16, strangest, things, siri, has, said, ...  \n",
      "3     [great, up, close, &, personal, event, AT_USER...  \n",
      "4     [from, which, companies, do, you, experience, ...  \n",
      "...                                                 ...  \n",
      "2654  [tweetdeck, working, but, not, twitter, for, a...  \n",
      "2655  [gud, mrng, twitter, &, all, my, frnds, too, ....  \n",
      "2656  [increase, your, twitter, followers, and, or, ...  \n",
      "2657  [62, ways, to, use, twitter, for, business, :,...  \n",
      "2658  [it's, almost, 4:20, ., where, is, your, bong,...  \n",
      "\n",
      "[2659 rows x 3 columns]\n"
     ]
    },
    {
     "name": "stderr",
     "output_type": "stream",
     "text": [
      "\n"
     ]
    }
   ],
   "source": [
    "data = postprocess(data)\n",
    "print(data)"
   ]
  },
  {
   "cell_type": "code",
   "execution_count": 8,
   "metadata": {},
   "outputs": [],
   "source": [
    "#Dividing into training and testing sets\n",
    "x_train, x_test, y_train, y_test = train_test_split(np.array(data.head(n).tokens), np.array(data.head(n).Sentiment), test_size=0.25)"
   ]
  },
  {
   "cell_type": "code",
   "execution_count": 9,
   "metadata": {},
   "outputs": [
    {
     "name": "stderr",
     "output_type": "stream",
     "text": [
      "0it [00:00, ?it/s]C:\\Users\\Medha Joshi\\Anaconda3\\lib\\site-packages\\ipykernel_launcher.py:6: DeprecationWarning: Call to deprecated `LabeledSentence` (Class will be removed in 4.0.0, use TaggedDocument instead).\n",
      "  \n",
      "1926it [00:00, 71526.10it/s]\n",
      "643it [00:00, 80599.43it/s]"
     ]
    },
    {
     "name": "stdout",
     "output_type": "stream",
     "text": [
      "[\"i'm\", 'loving', 'this', 'new', 'ios', '5', 'update', ':)', 'AT_USER']\n",
      "LabeledSentence([\"i'm\", 'loving', 'this', 'new', 'ios', '5', 'update', ':)', 'AT_USER'], ['TRAIN_0'])\n"
     ]
    },
    {
     "name": "stderr",
     "output_type": "stream",
     "text": [
      "\n"
     ]
    }
   ],
   "source": [
    "#labeling tweets\n",
    "def labelizeTweets(tweets, label_type):\n",
    "    labelized = []\n",
    "    for i,v in tqdm(enumerate(tweets)):\n",
    "        label = '%s_%s'%(label_type,i)\n",
    "        labelized.append(LabeledSentence(v, [label]))\n",
    "    return labelized\n",
    "\n",
    "print(x_train[0])\n",
    "x_train = labelizeTweets(x_train, 'TRAIN')\n",
    "x_test = labelizeTweets(x_test, 'TEST')\n",
    "print(x_train[0])"
   ]
  },
  {
   "cell_type": "code",
   "execution_count": 10,
   "metadata": {},
   "outputs": [
    {
     "name": "stderr",
     "output_type": "stream",
     "text": [
      "100%|█████████████████████████████████████████████████████████████████████████| 1926/1926 [00:00<00:00, 1932128.56it/s]\n"
     ]
    },
    {
     "data": {
      "text/plain": [
       "(141586, 326000)"
      ]
     },
     "execution_count": 10,
     "metadata": {},
     "output_type": "execute_result"
    }
   ],
   "source": [
    "#training Word2Vecs\n",
    "tweet_w2v = Word2Vec(size=n_dim, min_count=10)\n",
    "xw = []#list(x.words for x in tqdm(x_train))\n",
    "for x in tqdm(x_train):\n",
    "    xw.append(x.words)\n",
    "tweet_w2v.build_vocab(xw)\n",
    "tweet_w2v.train(xw, total_examples = len(xw), epochs = 10)"
   ]
  },
  {
   "cell_type": "code",
   "execution_count": 11,
   "metadata": {},
   "outputs": [
    {
     "data": {
      "text/html": [
       "\n",
       "    <div class=\"bk-root\">\n",
       "        <a href=\"https://bokeh.org\" target=\"_blank\" class=\"bk-logo bk-logo-small bk-logo-notebook\"></a>\n",
       "        <span id=\"1001\">Loading BokehJS ...</span>\n",
       "    </div>"
      ]
     },
     "metadata": {},
     "output_type": "display_data"
    },
    {
     "data": {
      "application/javascript": [
       "\n",
       "(function(root) {\n",
       "  function now() {\n",
       "    return new Date();\n",
       "  }\n",
       "\n",
       "  var force = true;\n",
       "\n",
       "  if (typeof root._bokeh_onload_callbacks === \"undefined\" || force === true) {\n",
       "    root._bokeh_onload_callbacks = [];\n",
       "    root._bokeh_is_loading = undefined;\n",
       "  }\n",
       "\n",
       "  var JS_MIME_TYPE = 'application/javascript';\n",
       "  var HTML_MIME_TYPE = 'text/html';\n",
       "  var EXEC_MIME_TYPE = 'application/vnd.bokehjs_exec.v0+json';\n",
       "  var CLASS_NAME = 'output_bokeh rendered_html';\n",
       "\n",
       "  /**\n",
       "   * Render data to the DOM node\n",
       "   */\n",
       "  function render(props, node) {\n",
       "    var script = document.createElement(\"script\");\n",
       "    node.appendChild(script);\n",
       "  }\n",
       "\n",
       "  /**\n",
       "   * Handle when an output is cleared or removed\n",
       "   */\n",
       "  function handleClearOutput(event, handle) {\n",
       "    var cell = handle.cell;\n",
       "\n",
       "    var id = cell.output_area._bokeh_element_id;\n",
       "    var server_id = cell.output_area._bokeh_server_id;\n",
       "    // Clean up Bokeh references\n",
       "    if (id != null && id in Bokeh.index) {\n",
       "      Bokeh.index[id].model.document.clear();\n",
       "      delete Bokeh.index[id];\n",
       "    }\n",
       "\n",
       "    if (server_id !== undefined) {\n",
       "      // Clean up Bokeh references\n",
       "      var cmd = \"from bokeh.io.state import curstate; print(curstate().uuid_to_server['\" + server_id + \"'].get_sessions()[0].document.roots[0]._id)\";\n",
       "      cell.notebook.kernel.execute(cmd, {\n",
       "        iopub: {\n",
       "          output: function(msg) {\n",
       "            var id = msg.content.text.trim();\n",
       "            if (id in Bokeh.index) {\n",
       "              Bokeh.index[id].model.document.clear();\n",
       "              delete Bokeh.index[id];\n",
       "            }\n",
       "          }\n",
       "        }\n",
       "      });\n",
       "      // Destroy server and session\n",
       "      var cmd = \"import bokeh.io.notebook as ion; ion.destroy_server('\" + server_id + \"')\";\n",
       "      cell.notebook.kernel.execute(cmd);\n",
       "    }\n",
       "  }\n",
       "\n",
       "  /**\n",
       "   * Handle when a new output is added\n",
       "   */\n",
       "  function handleAddOutput(event, handle) {\n",
       "    var output_area = handle.output_area;\n",
       "    var output = handle.output;\n",
       "\n",
       "    // limit handleAddOutput to display_data with EXEC_MIME_TYPE content only\n",
       "    if ((output.output_type != \"display_data\") || (!output.data.hasOwnProperty(EXEC_MIME_TYPE))) {\n",
       "      return\n",
       "    }\n",
       "\n",
       "    var toinsert = output_area.element.find(\".\" + CLASS_NAME.split(' ')[0]);\n",
       "\n",
       "    if (output.metadata[EXEC_MIME_TYPE][\"id\"] !== undefined) {\n",
       "      toinsert[toinsert.length - 1].firstChild.textContent = output.data[JS_MIME_TYPE];\n",
       "      // store reference to embed id on output_area\n",
       "      output_area._bokeh_element_id = output.metadata[EXEC_MIME_TYPE][\"id\"];\n",
       "    }\n",
       "    if (output.metadata[EXEC_MIME_TYPE][\"server_id\"] !== undefined) {\n",
       "      var bk_div = document.createElement(\"div\");\n",
       "      bk_div.innerHTML = output.data[HTML_MIME_TYPE];\n",
       "      var script_attrs = bk_div.children[0].attributes;\n",
       "      for (var i = 0; i < script_attrs.length; i++) {\n",
       "        toinsert[toinsert.length - 1].firstChild.setAttribute(script_attrs[i].name, script_attrs[i].value);\n",
       "        toinsert[toinsert.length - 1].firstChild.textContent = bk_div.children[0].textContent\n",
       "      }\n",
       "      // store reference to server id on output_area\n",
       "      output_area._bokeh_server_id = output.metadata[EXEC_MIME_TYPE][\"server_id\"];\n",
       "    }\n",
       "  }\n",
       "\n",
       "  function register_renderer(events, OutputArea) {\n",
       "\n",
       "    function append_mime(data, metadata, element) {\n",
       "      // create a DOM node to render to\n",
       "      var toinsert = this.create_output_subarea(\n",
       "        metadata,\n",
       "        CLASS_NAME,\n",
       "        EXEC_MIME_TYPE\n",
       "      );\n",
       "      this.keyboard_manager.register_events(toinsert);\n",
       "      // Render to node\n",
       "      var props = {data: data, metadata: metadata[EXEC_MIME_TYPE]};\n",
       "      render(props, toinsert[toinsert.length - 1]);\n",
       "      element.append(toinsert);\n",
       "      return toinsert\n",
       "    }\n",
       "\n",
       "    /* Handle when an output is cleared or removed */\n",
       "    events.on('clear_output.CodeCell', handleClearOutput);\n",
       "    events.on('delete.Cell', handleClearOutput);\n",
       "\n",
       "    /* Handle when a new output is added */\n",
       "    events.on('output_added.OutputArea', handleAddOutput);\n",
       "\n",
       "    /**\n",
       "     * Register the mime type and append_mime function with output_area\n",
       "     */\n",
       "    OutputArea.prototype.register_mime_type(EXEC_MIME_TYPE, append_mime, {\n",
       "      /* Is output safe? */\n",
       "      safe: true,\n",
       "      /* Index of renderer in `output_area.display_order` */\n",
       "      index: 0\n",
       "    });\n",
       "  }\n",
       "\n",
       "  // register the mime type if in Jupyter Notebook environment and previously unregistered\n",
       "  if (root.Jupyter !== undefined) {\n",
       "    var events = require('base/js/events');\n",
       "    var OutputArea = require('notebook/js/outputarea').OutputArea;\n",
       "\n",
       "    if (OutputArea.prototype.mime_types().indexOf(EXEC_MIME_TYPE) == -1) {\n",
       "      register_renderer(events, OutputArea);\n",
       "    }\n",
       "  }\n",
       "\n",
       "  \n",
       "  if (typeof (root._bokeh_timeout) === \"undefined\" || force === true) {\n",
       "    root._bokeh_timeout = Date.now() + 5000;\n",
       "    root._bokeh_failed_load = false;\n",
       "  }\n",
       "\n",
       "  var NB_LOAD_WARNING = {'data': {'text/html':\n",
       "     \"<div style='background-color: #fdd'>\\n\"+\n",
       "     \"<p>\\n\"+\n",
       "     \"BokehJS does not appear to have successfully loaded. If loading BokehJS from CDN, this \\n\"+\n",
       "     \"may be due to a slow or bad network connection. Possible fixes:\\n\"+\n",
       "     \"</p>\\n\"+\n",
       "     \"<ul>\\n\"+\n",
       "     \"<li>re-rerun `output_notebook()` to attempt to load from CDN again, or</li>\\n\"+\n",
       "     \"<li>use INLINE resources instead, as so:</li>\\n\"+\n",
       "     \"</ul>\\n\"+\n",
       "     \"<code>\\n\"+\n",
       "     \"from bokeh.resources import INLINE\\n\"+\n",
       "     \"output_notebook(resources=INLINE)\\n\"+\n",
       "     \"</code>\\n\"+\n",
       "     \"</div>\"}};\n",
       "\n",
       "  function display_loaded() {\n",
       "    var el = document.getElementById(\"1001\");\n",
       "    if (el != null) {\n",
       "      el.textContent = \"BokehJS is loading...\";\n",
       "    }\n",
       "    if (root.Bokeh !== undefined) {\n",
       "      if (el != null) {\n",
       "        el.textContent = \"BokehJS \" + root.Bokeh.version + \" successfully loaded.\";\n",
       "      }\n",
       "    } else if (Date.now() < root._bokeh_timeout) {\n",
       "      setTimeout(display_loaded, 100)\n",
       "    }\n",
       "  }\n",
       "\n",
       "\n",
       "  function run_callbacks() {\n",
       "    try {\n",
       "      root._bokeh_onload_callbacks.forEach(function(callback) {\n",
       "        if (callback != null)\n",
       "          callback();\n",
       "      });\n",
       "    } finally {\n",
       "      delete root._bokeh_onload_callbacks\n",
       "    }\n",
       "    console.debug(\"Bokeh: all callbacks have finished\");\n",
       "  }\n",
       "\n",
       "  function load_libs(css_urls, js_urls, callback) {\n",
       "    if (css_urls == null) css_urls = [];\n",
       "    if (js_urls == null) js_urls = [];\n",
       "\n",
       "    root._bokeh_onload_callbacks.push(callback);\n",
       "    if (root._bokeh_is_loading > 0) {\n",
       "      console.debug(\"Bokeh: BokehJS is being loaded, scheduling callback at\", now());\n",
       "      return null;\n",
       "    }\n",
       "    if (js_urls == null || js_urls.length === 0) {\n",
       "      run_callbacks();\n",
       "      return null;\n",
       "    }\n",
       "    console.debug(\"Bokeh: BokehJS not loaded, scheduling load and callback at\", now());\n",
       "    root._bokeh_is_loading = css_urls.length + js_urls.length;\n",
       "\n",
       "    function on_load() {\n",
       "      root._bokeh_is_loading--;\n",
       "      if (root._bokeh_is_loading === 0) {\n",
       "        console.debug(\"Bokeh: all BokehJS libraries/stylesheets loaded\");\n",
       "        run_callbacks()\n",
       "      }\n",
       "    }\n",
       "\n",
       "    function on_error() {\n",
       "      console.error(\"failed to load \" + url);\n",
       "    }\n",
       "\n",
       "    for (var i = 0; i < css_urls.length; i++) {\n",
       "      var url = css_urls[i];\n",
       "      const element = document.createElement(\"link\");\n",
       "      element.onload = on_load;\n",
       "      element.onerror = on_error;\n",
       "      element.rel = \"stylesheet\";\n",
       "      element.type = \"text/css\";\n",
       "      element.href = url;\n",
       "      console.debug(\"Bokeh: injecting link tag for BokehJS stylesheet: \", url);\n",
       "      document.body.appendChild(element);\n",
       "    }\n",
       "\n",
       "    const hashes = {\"https://cdn.bokeh.org/bokeh/release/bokeh-2.0.2.min.js\": \"ufR9RFnRs6lniiaFvtJziE0YeidtAgBRH6ux2oUItHw5WTvE1zuk9uzhUU/FJXDp\", \"https://cdn.bokeh.org/bokeh/release/bokeh-widgets-2.0.2.min.js\": \"8QM/PGWBT+IssZuRcDcjzwIh1mkOmJSoNMmyYDZbCfXJg3Ap1lEvdVgFuSAwhb/J\", \"https://cdn.bokeh.org/bokeh/release/bokeh-tables-2.0.2.min.js\": \"Jm8cH3Rg0P6UeZhVY5cLy1WzKajUT9KImCY+76hEqrcJt59/d8GPvFHjCkYgnSIn\", \"https://cdn.bokeh.org/bokeh/release/bokeh-gl-2.0.2.min.js\": \"Ozhzj+SI7ywm74aOI/UajcWz+C0NjsPunEVyVIrxzYkB+jA+2tUw8x5xJCbVtK5I\"};\n",
       "\n",
       "    for (var i = 0; i < js_urls.length; i++) {\n",
       "      var url = js_urls[i];\n",
       "      var element = document.createElement('script');\n",
       "      element.onload = on_load;\n",
       "      element.onerror = on_error;\n",
       "      element.async = false;\n",
       "      element.src = url;\n",
       "      if (url in hashes) {\n",
       "        element.crossOrigin = \"anonymous\";\n",
       "        element.integrity = \"sha384-\" + hashes[url];\n",
       "      }\n",
       "      console.debug(\"Bokeh: injecting script tag for BokehJS library: \", url);\n",
       "      document.head.appendChild(element);\n",
       "    }\n",
       "  };\n",
       "\n",
       "  function inject_raw_css(css) {\n",
       "    const element = document.createElement(\"style\");\n",
       "    element.appendChild(document.createTextNode(css));\n",
       "    document.body.appendChild(element);\n",
       "  }\n",
       "\n",
       "  \n",
       "  var js_urls = [\"https://cdn.bokeh.org/bokeh/release/bokeh-2.0.2.min.js\", \"https://cdn.bokeh.org/bokeh/release/bokeh-widgets-2.0.2.min.js\", \"https://cdn.bokeh.org/bokeh/release/bokeh-tables-2.0.2.min.js\", \"https://cdn.bokeh.org/bokeh/release/bokeh-gl-2.0.2.min.js\"];\n",
       "  var css_urls = [];\n",
       "  \n",
       "\n",
       "  var inline_js = [\n",
       "    function(Bokeh) {\n",
       "      Bokeh.set_log_level(\"info\");\n",
       "    },\n",
       "    function(Bokeh) {\n",
       "    \n",
       "    \n",
       "    }\n",
       "  ];\n",
       "\n",
       "  function run_inline_js() {\n",
       "    \n",
       "    if (root.Bokeh !== undefined || force === true) {\n",
       "      \n",
       "    for (var i = 0; i < inline_js.length; i++) {\n",
       "      inline_js[i].call(root, root.Bokeh);\n",
       "    }\n",
       "    if (force === true) {\n",
       "        display_loaded();\n",
       "      }} else if (Date.now() < root._bokeh_timeout) {\n",
       "      setTimeout(run_inline_js, 100);\n",
       "    } else if (!root._bokeh_failed_load) {\n",
       "      console.log(\"Bokeh: BokehJS failed to load within specified timeout.\");\n",
       "      root._bokeh_failed_load = true;\n",
       "    } else if (force !== true) {\n",
       "      var cell = $(document.getElementById(\"1001\")).parents('.cell').data().cell;\n",
       "      cell.output_area.append_execute_result(NB_LOAD_WARNING)\n",
       "    }\n",
       "\n",
       "  }\n",
       "\n",
       "  if (root._bokeh_is_loading === 0) {\n",
       "    console.debug(\"Bokeh: BokehJS loaded, going straight to plotting\");\n",
       "    run_inline_js();\n",
       "  } else {\n",
       "    load_libs(css_urls, js_urls, function() {\n",
       "      console.debug(\"Bokeh: BokehJS plotting callback run at\", now());\n",
       "      run_inline_js();\n",
       "    });\n",
       "  }\n",
       "}(window));"
      ],
      "application/vnd.bokehjs_load.v0+json": "\n(function(root) {\n  function now() {\n    return new Date();\n  }\n\n  var force = true;\n\n  if (typeof root._bokeh_onload_callbacks === \"undefined\" || force === true) {\n    root._bokeh_onload_callbacks = [];\n    root._bokeh_is_loading = undefined;\n  }\n\n  \n\n  \n  if (typeof (root._bokeh_timeout) === \"undefined\" || force === true) {\n    root._bokeh_timeout = Date.now() + 5000;\n    root._bokeh_failed_load = false;\n  }\n\n  var NB_LOAD_WARNING = {'data': {'text/html':\n     \"<div style='background-color: #fdd'>\\n\"+\n     \"<p>\\n\"+\n     \"BokehJS does not appear to have successfully loaded. If loading BokehJS from CDN, this \\n\"+\n     \"may be due to a slow or bad network connection. Possible fixes:\\n\"+\n     \"</p>\\n\"+\n     \"<ul>\\n\"+\n     \"<li>re-rerun `output_notebook()` to attempt to load from CDN again, or</li>\\n\"+\n     \"<li>use INLINE resources instead, as so:</li>\\n\"+\n     \"</ul>\\n\"+\n     \"<code>\\n\"+\n     \"from bokeh.resources import INLINE\\n\"+\n     \"output_notebook(resources=INLINE)\\n\"+\n     \"</code>\\n\"+\n     \"</div>\"}};\n\n  function display_loaded() {\n    var el = document.getElementById(\"1001\");\n    if (el != null) {\n      el.textContent = \"BokehJS is loading...\";\n    }\n    if (root.Bokeh !== undefined) {\n      if (el != null) {\n        el.textContent = \"BokehJS \" + root.Bokeh.version + \" successfully loaded.\";\n      }\n    } else if (Date.now() < root._bokeh_timeout) {\n      setTimeout(display_loaded, 100)\n    }\n  }\n\n\n  function run_callbacks() {\n    try {\n      root._bokeh_onload_callbacks.forEach(function(callback) {\n        if (callback != null)\n          callback();\n      });\n    } finally {\n      delete root._bokeh_onload_callbacks\n    }\n    console.debug(\"Bokeh: all callbacks have finished\");\n  }\n\n  function load_libs(css_urls, js_urls, callback) {\n    if (css_urls == null) css_urls = [];\n    if (js_urls == null) js_urls = [];\n\n    root._bokeh_onload_callbacks.push(callback);\n    if (root._bokeh_is_loading > 0) {\n      console.debug(\"Bokeh: BokehJS is being loaded, scheduling callback at\", now());\n      return null;\n    }\n    if (js_urls == null || js_urls.length === 0) {\n      run_callbacks();\n      return null;\n    }\n    console.debug(\"Bokeh: BokehJS not loaded, scheduling load and callback at\", now());\n    root._bokeh_is_loading = css_urls.length + js_urls.length;\n\n    function on_load() {\n      root._bokeh_is_loading--;\n      if (root._bokeh_is_loading === 0) {\n        console.debug(\"Bokeh: all BokehJS libraries/stylesheets loaded\");\n        run_callbacks()\n      }\n    }\n\n    function on_error() {\n      console.error(\"failed to load \" + url);\n    }\n\n    for (var i = 0; i < css_urls.length; i++) {\n      var url = css_urls[i];\n      const element = document.createElement(\"link\");\n      element.onload = on_load;\n      element.onerror = on_error;\n      element.rel = \"stylesheet\";\n      element.type = \"text/css\";\n      element.href = url;\n      console.debug(\"Bokeh: injecting link tag for BokehJS stylesheet: \", url);\n      document.body.appendChild(element);\n    }\n\n    const hashes = {\"https://cdn.bokeh.org/bokeh/release/bokeh-2.0.2.min.js\": \"ufR9RFnRs6lniiaFvtJziE0YeidtAgBRH6ux2oUItHw5WTvE1zuk9uzhUU/FJXDp\", \"https://cdn.bokeh.org/bokeh/release/bokeh-widgets-2.0.2.min.js\": \"8QM/PGWBT+IssZuRcDcjzwIh1mkOmJSoNMmyYDZbCfXJg3Ap1lEvdVgFuSAwhb/J\", \"https://cdn.bokeh.org/bokeh/release/bokeh-tables-2.0.2.min.js\": \"Jm8cH3Rg0P6UeZhVY5cLy1WzKajUT9KImCY+76hEqrcJt59/d8GPvFHjCkYgnSIn\", \"https://cdn.bokeh.org/bokeh/release/bokeh-gl-2.0.2.min.js\": \"Ozhzj+SI7ywm74aOI/UajcWz+C0NjsPunEVyVIrxzYkB+jA+2tUw8x5xJCbVtK5I\"};\n\n    for (var i = 0; i < js_urls.length; i++) {\n      var url = js_urls[i];\n      var element = document.createElement('script');\n      element.onload = on_load;\n      element.onerror = on_error;\n      element.async = false;\n      element.src = url;\n      if (url in hashes) {\n        element.crossOrigin = \"anonymous\";\n        element.integrity = \"sha384-\" + hashes[url];\n      }\n      console.debug(\"Bokeh: injecting script tag for BokehJS library: \", url);\n      document.head.appendChild(element);\n    }\n  };\n\n  function inject_raw_css(css) {\n    const element = document.createElement(\"style\");\n    element.appendChild(document.createTextNode(css));\n    document.body.appendChild(element);\n  }\n\n  \n  var js_urls = [\"https://cdn.bokeh.org/bokeh/release/bokeh-2.0.2.min.js\", \"https://cdn.bokeh.org/bokeh/release/bokeh-widgets-2.0.2.min.js\", \"https://cdn.bokeh.org/bokeh/release/bokeh-tables-2.0.2.min.js\", \"https://cdn.bokeh.org/bokeh/release/bokeh-gl-2.0.2.min.js\"];\n  var css_urls = [];\n  \n\n  var inline_js = [\n    function(Bokeh) {\n      Bokeh.set_log_level(\"info\");\n    },\n    function(Bokeh) {\n    \n    \n    }\n  ];\n\n  function run_inline_js() {\n    \n    if (root.Bokeh !== undefined || force === true) {\n      \n    for (var i = 0; i < inline_js.length; i++) {\n      inline_js[i].call(root, root.Bokeh);\n    }\n    if (force === true) {\n        display_loaded();\n      }} else if (Date.now() < root._bokeh_timeout) {\n      setTimeout(run_inline_js, 100);\n    } else if (!root._bokeh_failed_load) {\n      console.log(\"Bokeh: BokehJS failed to load within specified timeout.\");\n      root._bokeh_failed_load = true;\n    } else if (force !== true) {\n      var cell = $(document.getElementById(\"1001\")).parents('.cell').data().cell;\n      cell.output_area.append_execute_result(NB_LOAD_WARNING)\n    }\n\n  }\n\n  if (root._bokeh_is_loading === 0) {\n    console.debug(\"Bokeh: BokehJS loaded, going straight to plotting\");\n    run_inline_js();\n  } else {\n    load_libs(css_urls, js_urls, function() {\n      console.debug(\"Bokeh: BokehJS plotting callback run at\", now());\n      run_inline_js();\n    });\n  }\n}(window));"
     },
     "metadata": {},
     "output_type": "display_data"
    }
   ],
   "source": [
    "#defining the chart\n",
    "output_notebook()\n",
    "plot_tfidf = bp.figure(plot_width=700, plot_height=600, title=\"A map of 2659 word vectors\",\n",
    "    tools=\"pan,wheel_zoom,box_zoom,reset,hover\",\n",
    "    x_axis_type=None, y_axis_type=None, min_border=1)"
   ]
  },
  {
   "cell_type": "code",
   "execution_count": 12,
   "metadata": {},
   "outputs": [
    {
     "name": "stderr",
     "output_type": "stream",
     "text": [
      "C:\\Users\\Medha Joshi\\Anaconda3\\lib\\site-packages\\ipykernel_launcher.py:1: DeprecationWarning: Call to deprecated `__getitem__` (Method will be removed in 4.0.0, use self.wv.__getitem__() instead).\n",
      "  \"\"\"Entry point for launching an IPython kernel.\n"
     ]
    }
   ],
   "source": [
    "word_vectors = [tweet_w2v[w] for w in list(tweet_w2v.wv.vocab.keys())[:2000]]"
   ]
  },
  {
   "cell_type": "code",
   "execution_count": 13,
   "metadata": {},
   "outputs": [
    {
     "name": "stdout",
     "output_type": "stream",
     "text": [
      "[t-SNE] Computing 91 nearest neighbors...\n",
      "[t-SNE] Indexed 419 samples in 0.008s...\n",
      "[t-SNE] Computed neighbors for 419 samples in 0.057s...\n",
      "[t-SNE] Computed conditional probabilities for sample 419 / 419\n",
      "[t-SNE] Mean sigma: 0.062334\n",
      "[t-SNE] KL divergence after 250 iterations with early exaggeration: 56.030647\n",
      "[t-SNE] KL divergence after 1000 iterations: 0.270081\n"
     ]
    }
   ],
   "source": [
    "# dimensionality reduction. converting the vectors to 2d vectors\n",
    "from sklearn.manifold import TSNE\n",
    "tsne_model = TSNE(n_components=2, verbose=1, random_state=0)\n",
    "tsne_w2v = tsne_model.fit_transform(word_vectors)"
   ]
  },
  {
   "cell_type": "code",
   "execution_count": 14,
   "metadata": {},
   "outputs": [],
   "source": [
    "# putting everything in a dataframe\n",
    "tsne_df = pd.DataFrame(tsne_w2v, columns=['x', 'y'])\n",
    "tsne_df['words'] = list(tweet_w2v.wv.vocab.keys())[:2000]"
   ]
  },
  {
   "cell_type": "code",
   "execution_count": 15,
   "metadata": {},
   "outputs": [
    {
     "data": {
      "text/html": [
       "\n",
       "\n",
       "\n",
       "\n",
       "\n",
       "\n",
       "  <div class=\"bk-root\" id=\"ebba6ec4-0269-4d2d-8f14-263d3a7ffc77\" data-root-id=\"1002\"></div>\n"
      ]
     },
     "metadata": {},
     "output_type": "display_data"
    },
    {
     "data": {
      "application/javascript": [
       "(function(root) {\n",
       "  function embed_document(root) {\n",
       "    \n",
       "  var docs_json = {\"bd1dd7d7-993b-4136-9a3b-eb561907b04c\":{\"roots\":{\"references\":[{\"attributes\":{\"min_border\":1,\"plot_width\":700,\"renderers\":[{\"id\":\"1029\"}],\"title\":{\"id\":\"1003\"},\"toolbar\":{\"id\":\"1019\"},\"x_range\":{\"id\":\"1005\"},\"x_scale\":{\"id\":\"1009\"},\"y_range\":{\"id\":\"1007\"},\"y_scale\":{\"id\":\"1011\"}},\"id\":\"1002\",\"subtype\":\"Figure\",\"type\":\"Plot\"},{\"attributes\":{},\"id\":\"1014\",\"type\":\"WheelZoomTool\"},{\"attributes\":{\"data_source\":{\"id\":\"1025\"},\"glyph\":{\"id\":\"1027\"},\"hover_glyph\":null,\"muted_glyph\":null,\"nonselection_glyph\":{\"id\":\"1028\"},\"selection_glyph\":null,\"view\":{\"id\":\"1030\"}},\"id\":\"1029\",\"type\":\"GlyphRenderer\"},{\"attributes\":{\"active_drag\":\"auto\",\"active_inspect\":\"auto\",\"active_multi\":null,\"active_scroll\":\"auto\",\"active_tap\":\"auto\",\"tools\":[{\"id\":\"1013\"},{\"id\":\"1014\"},{\"id\":\"1015\"},{\"id\":\"1016\"},{\"id\":\"1017\"}]},\"id\":\"1019\",\"type\":\"Toolbar\"},{\"attributes\":{\"overlay\":{\"id\":\"1018\"}},\"id\":\"1015\",\"type\":\"BoxZoomTool\"},{\"attributes\":{},\"id\":\"1032\",\"type\":\"Selection\"},{\"attributes\":{\"bottom_units\":\"screen\",\"fill_alpha\":0.5,\"fill_color\":\"lightgrey\",\"left_units\":\"screen\",\"level\":\"overlay\",\"line_alpha\":1.0,\"line_color\":\"black\",\"line_dash\":[4,4],\"line_width\":2,\"render_mode\":\"css\",\"right_units\":\"screen\",\"top_units\":\"screen\"},\"id\":\"1018\",\"type\":\"BoxAnnotation\"},{\"attributes\":{},\"id\":\"1011\",\"type\":\"LinearScale\"},{\"attributes\":{},\"id\":\"1013\",\"type\":\"PanTool\"},{\"attributes\":{\"fill_color\":{\"value\":\"#1f77b4\"},\"line_color\":{\"value\":\"#1f77b4\"},\"x\":{\"field\":\"x\"},\"y\":{\"field\":\"y\"}},\"id\":\"1027\",\"type\":\"Scatter\"},{\"attributes\":{\"source\":{\"id\":\"1025\"}},\"id\":\"1030\",\"type\":\"CDSView\"},{\"attributes\":{},\"id\":\"1016\",\"type\":\"ResetTool\"},{\"attributes\":{\"text\":\"A map of 2659 word vectors\"},\"id\":\"1003\",\"type\":\"Title\"},{\"attributes\":{},\"id\":\"1009\",\"type\":\"LinearScale\"},{\"attributes\":{},\"id\":\"1033\",\"type\":\"UnionRenderers\"},{\"attributes\":{},\"id\":\"1005\",\"type\":\"DataRange1d\"},{\"attributes\":{\"callback\":null,\"tooltips\":[[\"word\",\"@words\"]]},\"id\":\"1017\",\"type\":\"HoverTool\"},{\"attributes\":{},\"id\":\"1007\",\"type\":\"DataRange1d\"},{\"attributes\":{\"fill_alpha\":{\"value\":0.1},\"fill_color\":{\"value\":\"#1f77b4\"},\"line_alpha\":{\"value\":0.1},\"line_color\":{\"value\":\"#1f77b4\"},\"x\":{\"field\":\"x\"},\"y\":{\"field\":\"y\"}},\"id\":\"1028\",\"type\":\"Scatter\"},{\"attributes\":{\"data\":{\"index\":[0,1,2,3,4,5,6,7,8,9,10,11,12,13,14,15,16,17,18,19,20,21,22,23,24,25,26,27,28,29,30,31,32,33,34,35,36,37,38,39,40,41,42,43,44,45,46,47,48,49,50,51,52,53,54,55,56,57,58,59,60,61,62,63,64,65,66,67,68,69,70,71,72,73,74,75,76,77,78,79,80,81,82,83,84,85,86,87,88,89,90,91,92,93,94,95,96,97,98,99,100,101,102,103,104,105,106,107,108,109,110,111,112,113,114,115,116,117,118,119,120,121,122,123,124,125,126,127,128,129,130,131,132,133,134,135,136,137,138,139,140,141,142,143,144,145,146,147,148,149,150,151,152,153,154,155,156,157,158,159,160,161,162,163,164,165,166,167,168,169,170,171,172,173,174,175,176,177,178,179,180,181,182,183,184,185,186,187,188,189,190,191,192,193,194,195,196,197,198,199,200,201,202,203,204,205,206,207,208,209,210,211,212,213,214,215,216,217,218,219,220,221,222,223,224,225,226,227,228,229,230,231,232,233,234,235,236,237,238,239,240,241,242,243,244,245,246,247,248,249,250,251,252,253,254,255,256,257,258,259,260,261,262,263,264,265,266,267,268,269,270,271,272,273,274,275,276,277,278,279,280,281,282,283,284,285,286,287,288,289,290,291,292,293,294,295,296,297,298,299,300,301,302,303,304,305,306,307,308,309,310,311,312,313,314,315,316,317,318,319,320,321,322,323,324,325,326,327,328,329,330,331,332,333,334,335,336,337,338,339,340,341,342,343,344,345,346,347,348,349,350,351,352,353,354,355,356,357,358,359,360,361,362,363,364,365,366,367,368,369,370,371,372,373,374,375,376,377,378,379,380,381,382,383,384,385,386,387,388,389,390,391,392,393,394,395,396,397,398,399,400,401,402,403,404,405,406,407,408,409,410,411,412,413,414,415,416,417,418],\"words\":[\"i'm\",\"this\",\"new\",\"ios\",\"5\",\"update\",\":)\",\"AT_USER\",\"why\",\"does\",\"iphone\",\"4\",\"the\",\"battery\",\"life\",\"?\",\"rt\",\"microsoft\",\"for\",\"URL\",\"on\",\"app\",\"store\",\"as\",\"best\",\"to\",\"-\",\"twitter\",\"i\",\"if\",\"my\",\"get\",\"that\",\"can\",\"too\",\"!\",\"you\",\"please\",\"make\",\"last\",\"thanks\",\"a\",\"windows\",\"8\",\".\",\"and\",\"it\",\"was\",\"good\",\"but\",\"ui\",\"is\",\"way\",\"right\",\"now\",\",\",\"waiting\",\"of\",\"stores\",\"up\",\"free\",\"phone\",\"7\",\"devices\",\"just\",\"how\",\"even\",\"all\",\"people\",\"...\",\"done\",\"google\",\"news\",\":\",\"unwrapping\",\"ice\",\"cream\",\"sandwich\",\"galaxy\",\"nexus\",\"(\",\"needs\",\"release\",\"thank\",\"steve\",\"jobs\",\"via\",\"stevejobs\",\"apple\",\"did\",\"everyone\",\"who\",\"hey\",\"have\",\"doesn't\",\"are\",\"me\",\"be\",\"or\",\"we\",\"w\",\"..\",\"what\",\"not\",\"buying\",\"already\",\"give\",\"us\",\"while\",\"with\",\"post\",\"touch\",\"screen\",\"going\",\"\\\"\",\"tech\",\"&\",\"omnitouch\",\"been\",\"dear\",\"know\",\"awesome\",\"could\",\"about\",\"really\",\"do\",\"[\",\"]\",\"facebook\",\"\\u201c\",\"like\",\"\\u201d\",\"your\",\"business\",\"socialmedia\",\"having\",\"since\",\"lost\",\"4s\",\"vs\",\"video\",\"<\",\"wow\",\"were\",\"an\",\"stop\",\"s\",\"/\",\"getting\",\"phones\",\"where\",\"has\",\"some\",\"xbox\",\"live\",\")\",\"after\",\"online\",\"they\",\"love\",\">\",\"one\",\"samsung\",\"official\",\"smartphone\",\"android\",\"4.0\",\"million\",\"in\",\"3\",\"days\",\"customer\",\"service\",\"ever\",\"bad\",\"so\",\"makes\",\"no\",\"night\",\"follow\",\"damn\",\"time\",\"upgrade\",\"users\",\"he\",\"would\",\"want\",\"back\",\"another\",\"cool\",\"down\",\"bing\",\"\\u2019\",\"off\",\"camera\",\"ics\",\"icecreamsandwich\",\"looks\",\"bit.ly/nejbye\",\"at\",\"genius\",\"cloud\",\"music\",\"oh\",\"had\",\"it's\",\"'\",\"great\",\"unveil\",\"os\",\"siri\",\"also\",\"fuck\",\"u\",\"from\",\"finally\",\"tweets\",\"ipad\",\"lol\",\"releases\",\"|\",\"look\",\"what's\",\"mobile\",\"yahoo\",\"again\",\"didn't\",\"year\",\"skype\",\"use\",\"by\",\"$\",\"coming\",\"next\",\"infinite\",\"bookcase\",\"working\",\"issues\",\"im\",\"here\",\"tell\",\"microsoft's\",\"world\",\"see\",\"come\",\"first\",\"weekend\",\"sales\",\"top\",\"office\",\"*\",\"fail\",\"war\",\"day\",\"digital\",\"blog\",\"google's\",\"macbook\",\"years\",\"old\",\"keep\",\"today\",\"win\",\"@\",\"sold\",\"should\",\"better\",\"well\",\"shows\",\"which\",\"their\",\"there\",\"nokia\",\"wp7\",\"mango\",\"social\",\"feature\",\"bar\",\"dhilipsiva\",\"pc\",\"ballmer\",\"week\",\"windowsphone\",\"check\",\"them\",\"out\",\"apps\",\"+\",\"then\",\"go\",\"gplus\",\"googleplus\",\"teamfollowback\",\"socialnetwork\",\"2\",\"only\",\"need\",\"computer\",\"don't\",\"think\",\"am\",\"wait\",\"never\",\"funny\",\"1\",\"got\",\"start\",\"yet\",\"ceo\",\"sometimes\",\"re\",\"lucky\",\"=\",\"user\",\"sharepoint\",\"put\",\"when\",\"still\",\"updates\",\"data\",\";)\",\"site\",\"nice\",\"fucking\",\"call\",\"autopilot\",\"let\",\"followers\",\"hours\",\"will\",\"buy\",\"every\",\"market\",\"technology\",\"our\",\"neowin\",\"into\",\"touchscreen\",\"using\",\"work\",\"icloud\",\"any\",\"over\",\"isn't\",\"away\",\"t\",\"more\",\"available\",\"search\",\"take\",\"support\",\"shit\",\"minutes\",\"many\",\"features\",\"pretty\",\"ipod\",\"hello\",\"baby\",\"memories\",\"pampershelloapps\",\"%\",\"than\",\"giving\",\"man\",\"guess\",\"though\",\"\\u2026\",\"being\",\"line\",\"2012\",\"sdk\",\"r\",\"interesting\",\"own\",\"galaxynexus\",\"him\",\"learning\",\"10\",\"game\",\"kinect\",\"big\",\"360\",\"network\",\"steveballmer\",\"thing\",\"most\",\"hate\",\"imessage\",\"find\",\"version\",\"fb\",\"sharing\",\"looking\",\"much\",\"improvements\",\"can't\",\"says\",\"turn\",\"hand\",\"anyone\",\"read\",\"products\",\"made\",\"details\",\"web\",\"tools\",\"help\",\"very\",\"amazing\",\"tablets\",\"sleep\",\"send\",\"she\",\"its\",\"server\",\"2010\",\"add\",\"z\"],\"x\":{\"__ndarray__\":\"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\",\"dtype\":\"float32\",\"shape\":[419]},\"y\":{\"__ndarray__\":\"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\",\"dtype\":\"float32\",\"shape\":[419]}},\"selected\":{\"id\":\"1032\"},\"selection_policy\":{\"id\":\"1033\"}},\"id\":\"1025\",\"type\":\"ColumnDataSource\"}],\"root_ids\":[\"1002\"]},\"title\":\"Bokeh Application\",\"version\":\"2.0.2\"}};\n",
       "  var render_items = [{\"docid\":\"bd1dd7d7-993b-4136-9a3b-eb561907b04c\",\"root_ids\":[\"1002\"],\"roots\":{\"1002\":\"ebba6ec4-0269-4d2d-8f14-263d3a7ffc77\"}}];\n",
       "  root.Bokeh.embed.embed_items_notebook(docs_json, render_items);\n",
       "\n",
       "  }\n",
       "  if (root.Bokeh !== undefined) {\n",
       "    embed_document(root);\n",
       "  } else {\n",
       "    var attempts = 0;\n",
       "    var timer = setInterval(function(root) {\n",
       "      if (root.Bokeh !== undefined) {\n",
       "        clearInterval(timer);\n",
       "        embed_document(root);\n",
       "      } else {\n",
       "        attempts++;\n",
       "        if (attempts > 100) {\n",
       "          clearInterval(timer);\n",
       "          console.log(\"Bokeh: ERROR: Unable to run BokehJS code because BokehJS library is missing\");\n",
       "        }\n",
       "      }\n",
       "    }, 10, root)\n",
       "  }\n",
       "})(window);"
      ],
      "application/vnd.bokehjs_exec.v0+json": ""
     },
     "metadata": {
      "application/vnd.bokehjs_exec.v0+json": {
       "id": "1002"
      }
     },
     "output_type": "display_data"
    }
   ],
   "source": [
    "# plotting. the corresponding word appears when you hover on the data point.\n",
    "plot_tfidf.scatter(x='x', y='y', source=tsne_df)\n",
    "hover = plot_tfidf.select(dict(type=HoverTool))\n",
    "hover.tooltips={\"word\": \"@words\"}\n",
    "show(plot_tfidf)"
   ]
  }
 ],
 "metadata": {
  "kernelspec": {
   "display_name": "Python 3",
   "language": "python",
   "name": "python3"
  },
  "language_info": {
   "codemirror_mode": {
    "name": "ipython",
    "version": 3
   },
   "file_extension": ".py",
   "mimetype": "text/x-python",
   "name": "python",
   "nbconvert_exporter": "python",
   "pygments_lexer": "ipython3",
   "version": "3.6.10"
  }
 },
 "nbformat": 4,
 "nbformat_minor": 4
}
