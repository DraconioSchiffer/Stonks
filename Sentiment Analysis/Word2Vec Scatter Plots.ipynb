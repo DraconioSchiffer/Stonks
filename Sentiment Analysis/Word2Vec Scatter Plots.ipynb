{
 "cells": [
  {
   "cell_type": "code",
   "execution_count": 1,
   "metadata": {},
   "outputs": [
    {
     "name": "stderr",
     "output_type": "stream",
     "text": [
      "C:\\Users\\Medha Joshi\\Anaconda3\\lib\\site-packages\\h5py\\__init__.py:36: FutureWarning: Conversion of the second argument of issubdtype from `float` to `np.floating` is deprecated. In future, it will be treated as `np.float64 == np.dtype(float).type`.\n",
      "  from ._conv import register_converters as _register_converters\n",
      "Using TensorFlow backend.\n"
     ]
    }
   ],
   "source": [
    "import pandas as pd \n",
    "import numpy as np \n",
    "from copy import deepcopy\n",
    "from string import punctuation\n",
    "from random import shuffle\n",
    "import gensim\n",
    "from gensim.models.word2vec import Word2Vec # the word2vec model gensim class\n",
    "from tqdm import tqdm\n",
    "from nltk.tokenize import TweetTokenizer # a tweet tokenizer from nltk.\n",
    "from sklearn.model_selection import train_test_split\n",
    "from sklearn.feature_extraction.text import TfidfVectorizer\n",
    "from keras.preprocessing.text import Tokenizer\n",
    "from nltk.tokenize import word_tokenize\n",
    "import bokeh.plotting as bp\n",
    "from bokeh.models import HoverTool, BoxSelectTool\n",
    "from bokeh.plotting import figure, show, output_notebook\n",
    "import re"
   ]
  },
  {
   "cell_type": "code",
   "execution_count": 2,
   "metadata": {},
   "outputs": [],
   "source": [
    "pd.options.mode.chained_assignment = None\n",
    "tokenizer = TweetTokenizer()\n",
    "tqdm.pandas(desc=\"progress-bar\")\n",
    "LabeledSentence = gensim.models.doc2vec.LabeledSentence\n",
    "n = 2569\n",
    "n_dim=200"
   ]
  },
  {
   "cell_type": "code",
   "execution_count": 3,
   "metadata": {},
   "outputs": [],
   "source": [
    "# Import Data\n",
    "data = pd.read_csv(\"tweetdata.csv\")\n",
    "data.columns = ['SentimentText', 'Sentiment']\n",
    "data = data[1::2]\n",
    "data['SentimentText'] = data[data['SentimentText'].isnull() == False]"
   ]
  },
  {
   "cell_type": "code",
   "execution_count": 4,
   "metadata": {},
   "outputs": [],
   "source": [
    "def tokenize(tweet):\n",
    "    tweet = tweet.lower()\n",
    "    tweet = re.sub('((www\\.[^\\s]+)|(https?://[^\\s]+))', 'URL', tweet)\n",
    "    tweet = re.sub('@[^\\s]+', 'AT_USER', tweet)\n",
    "    tweet = re.sub(r'#([^\\s]+)', r'\\1', tweet) \n",
    "    tokens = tokenizer.tokenize(tweet)\n",
    "    return tokens\n",
    "\n",
    "\n",
    "def postprocess(data, n=2659):\n",
    "    data = data.head(n)\n",
    "    data['tokens'] = data['SentimentText'].progress_map(tokenize)  ## progress_map is a variant of the map function plus a progress bar. Handy to monitor DataFrame creations.\n",
    "    #data = data[data.tokens != 'NC']\n",
    "    data.reset_index(inplace=True)\n",
    "    data.drop('index', inplace=True, axis=1)\n",
    "    return data"
   ]
  },
  {
   "cell_type": "code",
   "execution_count": 5,
   "metadata": {},
   "outputs": [
    {
     "name": "stderr",
     "output_type": "stream",
     "text": [
      "progress-bar: 100%|█████████████████████████████████████████████████████████████| 2659/2659 [00:00<00:00, 15449.31it/s]"
     ]
    },
    {
     "name": "stdout",
     "output_type": "stream",
     "text": [
      "                                          SentimentText  Sentiment  \\\n",
      "0     Hilarious @youtube video - guy does a duet wit...        1.0   \n",
      "1     @RIM you made it too easy for me to switch to ...        1.0   \n",
      "2     The 16 strangest things Siri has said so far. ...        1.0   \n",
      "3     Great up close & personal event @Apple tonight...        1.0   \n",
      "4     From which companies do you experience the bes...        1.0   \n",
      "...                                                 ...        ...   \n",
      "2654   #Tweetdeck working but not #Twitter for #Android        0.0   \n",
      "2655           gud mrng #twitter & all my frnds too. ;)        0.0   \n",
      "2656  Increase your #twitter followers and or your #...        0.0   \n",
      "2657  62 Ways to Use #Twitter for Business: http://t...        0.0   \n",
      "2658  It's almost 4:20. Where is your bong? Is it pa...        0.0   \n",
      "\n",
      "                                                 tokens  \n",
      "0     [hilarious, AT_USER, video, -, guy, does, a, d...  \n",
      "1     [AT_USER, you, made, it, too, easy, for, me, t...  \n",
      "2     [the, 16, strangest, things, siri, has, said, ...  \n",
      "3     [great, up, close, &, personal, event, AT_USER...  \n",
      "4     [from, which, companies, do, you, experience, ...  \n",
      "...                                                 ...  \n",
      "2654  [tweetdeck, working, but, not, twitter, for, a...  \n",
      "2655  [gud, mrng, twitter, &, all, my, frnds, too, ....  \n",
      "2656  [increase, your, twitter, followers, and, or, ...  \n",
      "2657  [62, ways, to, use, twitter, for, business, :,...  \n",
      "2658  [it's, almost, 4:20, ., where, is, your, bong,...  \n",
      "\n",
      "[2659 rows x 3 columns]\n"
     ]
    },
    {
     "name": "stderr",
     "output_type": "stream",
     "text": [
      "\n"
     ]
    }
   ],
   "source": [
    "data = postprocess(data)\n",
    "print(data)"
   ]
  },
  {
   "cell_type": "code",
   "execution_count": 6,
   "metadata": {},
   "outputs": [],
   "source": [
    "#Dividing into training and testing sets\n",
    "x_train, x_test, y_train, y_test = train_test_split(np.array(data.head(n).tokens), np.array(data.head(n).Sentiment), test_size=0.25)"
   ]
  },
  {
   "cell_type": "code",
   "execution_count": 7,
   "metadata": {},
   "outputs": [
    {
     "name": "stderr",
     "output_type": "stream",
     "text": [
      "0it [00:00, ?it/s]C:\\Users\\Medha Joshi\\Anaconda3\\lib\\site-packages\\ipykernel_launcher.py:6: DeprecationWarning: Call to deprecated `LabeledSentence` (Class will be removed in 4.0.0, use TaggedDocument instead).\n",
      "  \n",
      "1926it [00:00, 192490.04it/s]\n",
      "643it [00:00, 318035.08it/s]"
     ]
    },
    {
     "name": "stdout",
     "output_type": "stream",
     "text": [
      "['ga-repost', ':', 'rt', 'AT_USER', 'are', 'you', 'making', 'the', 'move', 'from', 'googleapps', 'to', 'microsoft', '?', '>', '>', 'metalogix', 'can', 'migrate', 'y', '...', 'URL']\n",
      "LabeledSentence(['ga-repost', ':', 'rt', 'AT_USER', 'are', 'you', 'making', 'the', 'move', 'from', 'googleapps', 'to', 'microsoft', '?', '>', '>', 'metalogix', 'can', 'migrate', 'y', '...', 'URL'], ['TRAIN_0'])\n"
     ]
    },
    {
     "name": "stderr",
     "output_type": "stream",
     "text": [
      "\n"
     ]
    }
   ],
   "source": [
    "#labeling tweets\n",
    "def labelizeTweets(tweets, label_type):\n",
    "    labelized = []\n",
    "    for i,v in tqdm(enumerate(tweets)):\n",
    "        label = '%s_%s'%(label_type,i)\n",
    "        labelized.append(LabeledSentence(v, [label]))\n",
    "    return labelized\n",
    "\n",
    "print(x_train[0])\n",
    "x_train = labelizeTweets(x_train, 'TRAIN')\n",
    "x_test = labelizeTweets(x_test, 'TEST')\n",
    "print(x_train[0])"
   ]
  },
  {
   "cell_type": "code",
   "execution_count": 8,
   "metadata": {},
   "outputs": [
    {
     "name": "stderr",
     "output_type": "stream",
     "text": [
      "100%|█████████████████████████████████████████████████████████████████████████| 1926/1926 [00:00<00:00, 1871693.58it/s]\n"
     ]
    },
    {
     "data": {
      "text/plain": [
       "(209431, 323600)"
      ]
     },
     "execution_count": 8,
     "metadata": {},
     "output_type": "execute_result"
    }
   ],
   "source": [
    "#training Word2Vecs\n",
    "tweet_w2v = Word2Vec(size=n_dim, min_count=2)\n",
    "xw = []#list(x.words for x in tqdm(x_train))\n",
    "for x in tqdm(x_train):\n",
    "    xw.append(x.words)\n",
    "tweet_w2v.build_vocab(xw)\n",
    "tweet_w2v.train(xw, total_examples = len(xw), epochs = 10)"
   ]
  },
  {
   "cell_type": "code",
   "execution_count": 9,
   "metadata": {},
   "outputs": [
    {
     "data": {
      "text/html": [
       "\n",
       "    <div class=\"bk-root\">\n",
       "        <a href=\"https://bokeh.org\" target=\"_blank\" class=\"bk-logo bk-logo-small bk-logo-notebook\"></a>\n",
       "        <span id=\"1001\">Loading BokehJS ...</span>\n",
       "    </div>"
      ]
     },
     "metadata": {},
     "output_type": "display_data"
    },
    {
     "data": {
      "application/javascript": [
       "\n",
       "(function(root) {\n",
       "  function now() {\n",
       "    return new Date();\n",
       "  }\n",
       "\n",
       "  var force = true;\n",
       "\n",
       "  if (typeof root._bokeh_onload_callbacks === \"undefined\" || force === true) {\n",
       "    root._bokeh_onload_callbacks = [];\n",
       "    root._bokeh_is_loading = undefined;\n",
       "  }\n",
       "\n",
       "  var JS_MIME_TYPE = 'application/javascript';\n",
       "  var HTML_MIME_TYPE = 'text/html';\n",
       "  var EXEC_MIME_TYPE = 'application/vnd.bokehjs_exec.v0+json';\n",
       "  var CLASS_NAME = 'output_bokeh rendered_html';\n",
       "\n",
       "  /**\n",
       "   * Render data to the DOM node\n",
       "   */\n",
       "  function render(props, node) {\n",
       "    var script = document.createElement(\"script\");\n",
       "    node.appendChild(script);\n",
       "  }\n",
       "\n",
       "  /**\n",
       "   * Handle when an output is cleared or removed\n",
       "   */\n",
       "  function handleClearOutput(event, handle) {\n",
       "    var cell = handle.cell;\n",
       "\n",
       "    var id = cell.output_area._bokeh_element_id;\n",
       "    var server_id = cell.output_area._bokeh_server_id;\n",
       "    // Clean up Bokeh references\n",
       "    if (id != null && id in Bokeh.index) {\n",
       "      Bokeh.index[id].model.document.clear();\n",
       "      delete Bokeh.index[id];\n",
       "    }\n",
       "\n",
       "    if (server_id !== undefined) {\n",
       "      // Clean up Bokeh references\n",
       "      var cmd = \"from bokeh.io.state import curstate; print(curstate().uuid_to_server['\" + server_id + \"'].get_sessions()[0].document.roots[0]._id)\";\n",
       "      cell.notebook.kernel.execute(cmd, {\n",
       "        iopub: {\n",
       "          output: function(msg) {\n",
       "            var id = msg.content.text.trim();\n",
       "            if (id in Bokeh.index) {\n",
       "              Bokeh.index[id].model.document.clear();\n",
       "              delete Bokeh.index[id];\n",
       "            }\n",
       "          }\n",
       "        }\n",
       "      });\n",
       "      // Destroy server and session\n",
       "      var cmd = \"import bokeh.io.notebook as ion; ion.destroy_server('\" + server_id + \"')\";\n",
       "      cell.notebook.kernel.execute(cmd);\n",
       "    }\n",
       "  }\n",
       "\n",
       "  /**\n",
       "   * Handle when a new output is added\n",
       "   */\n",
       "  function handleAddOutput(event, handle) {\n",
       "    var output_area = handle.output_area;\n",
       "    var output = handle.output;\n",
       "\n",
       "    // limit handleAddOutput to display_data with EXEC_MIME_TYPE content only\n",
       "    if ((output.output_type != \"display_data\") || (!output.data.hasOwnProperty(EXEC_MIME_TYPE))) {\n",
       "      return\n",
       "    }\n",
       "\n",
       "    var toinsert = output_area.element.find(\".\" + CLASS_NAME.split(' ')[0]);\n",
       "\n",
       "    if (output.metadata[EXEC_MIME_TYPE][\"id\"] !== undefined) {\n",
       "      toinsert[toinsert.length - 1].firstChild.textContent = output.data[JS_MIME_TYPE];\n",
       "      // store reference to embed id on output_area\n",
       "      output_area._bokeh_element_id = output.metadata[EXEC_MIME_TYPE][\"id\"];\n",
       "    }\n",
       "    if (output.metadata[EXEC_MIME_TYPE][\"server_id\"] !== undefined) {\n",
       "      var bk_div = document.createElement(\"div\");\n",
       "      bk_div.innerHTML = output.data[HTML_MIME_TYPE];\n",
       "      var script_attrs = bk_div.children[0].attributes;\n",
       "      for (var i = 0; i < script_attrs.length; i++) {\n",
       "        toinsert[toinsert.length - 1].firstChild.setAttribute(script_attrs[i].name, script_attrs[i].value);\n",
       "        toinsert[toinsert.length - 1].firstChild.textContent = bk_div.children[0].textContent\n",
       "      }\n",
       "      // store reference to server id on output_area\n",
       "      output_area._bokeh_server_id = output.metadata[EXEC_MIME_TYPE][\"server_id\"];\n",
       "    }\n",
       "  }\n",
       "\n",
       "  function register_renderer(events, OutputArea) {\n",
       "\n",
       "    function append_mime(data, metadata, element) {\n",
       "      // create a DOM node to render to\n",
       "      var toinsert = this.create_output_subarea(\n",
       "        metadata,\n",
       "        CLASS_NAME,\n",
       "        EXEC_MIME_TYPE\n",
       "      );\n",
       "      this.keyboard_manager.register_events(toinsert);\n",
       "      // Render to node\n",
       "      var props = {data: data, metadata: metadata[EXEC_MIME_TYPE]};\n",
       "      render(props, toinsert[toinsert.length - 1]);\n",
       "      element.append(toinsert);\n",
       "      return toinsert\n",
       "    }\n",
       "\n",
       "    /* Handle when an output is cleared or removed */\n",
       "    events.on('clear_output.CodeCell', handleClearOutput);\n",
       "    events.on('delete.Cell', handleClearOutput);\n",
       "\n",
       "    /* Handle when a new output is added */\n",
       "    events.on('output_added.OutputArea', handleAddOutput);\n",
       "\n",
       "    /**\n",
       "     * Register the mime type and append_mime function with output_area\n",
       "     */\n",
       "    OutputArea.prototype.register_mime_type(EXEC_MIME_TYPE, append_mime, {\n",
       "      /* Is output safe? */\n",
       "      safe: true,\n",
       "      /* Index of renderer in `output_area.display_order` */\n",
       "      index: 0\n",
       "    });\n",
       "  }\n",
       "\n",
       "  // register the mime type if in Jupyter Notebook environment and previously unregistered\n",
       "  if (root.Jupyter !== undefined) {\n",
       "    var events = require('base/js/events');\n",
       "    var OutputArea = require('notebook/js/outputarea').OutputArea;\n",
       "\n",
       "    if (OutputArea.prototype.mime_types().indexOf(EXEC_MIME_TYPE) == -1) {\n",
       "      register_renderer(events, OutputArea);\n",
       "    }\n",
       "  }\n",
       "\n",
       "  \n",
       "  if (typeof (root._bokeh_timeout) === \"undefined\" || force === true) {\n",
       "    root._bokeh_timeout = Date.now() + 5000;\n",
       "    root._bokeh_failed_load = false;\n",
       "  }\n",
       "\n",
       "  var NB_LOAD_WARNING = {'data': {'text/html':\n",
       "     \"<div style='background-color: #fdd'>\\n\"+\n",
       "     \"<p>\\n\"+\n",
       "     \"BokehJS does not appear to have successfully loaded. If loading BokehJS from CDN, this \\n\"+\n",
       "     \"may be due to a slow or bad network connection. Possible fixes:\\n\"+\n",
       "     \"</p>\\n\"+\n",
       "     \"<ul>\\n\"+\n",
       "     \"<li>re-rerun `output_notebook()` to attempt to load from CDN again, or</li>\\n\"+\n",
       "     \"<li>use INLINE resources instead, as so:</li>\\n\"+\n",
       "     \"</ul>\\n\"+\n",
       "     \"<code>\\n\"+\n",
       "     \"from bokeh.resources import INLINE\\n\"+\n",
       "     \"output_notebook(resources=INLINE)\\n\"+\n",
       "     \"</code>\\n\"+\n",
       "     \"</div>\"}};\n",
       "\n",
       "  function display_loaded() {\n",
       "    var el = document.getElementById(\"1001\");\n",
       "    if (el != null) {\n",
       "      el.textContent = \"BokehJS is loading...\";\n",
       "    }\n",
       "    if (root.Bokeh !== undefined) {\n",
       "      if (el != null) {\n",
       "        el.textContent = \"BokehJS \" + root.Bokeh.version + \" successfully loaded.\";\n",
       "      }\n",
       "    } else if (Date.now() < root._bokeh_timeout) {\n",
       "      setTimeout(display_loaded, 100)\n",
       "    }\n",
       "  }\n",
       "\n",
       "\n",
       "  function run_callbacks() {\n",
       "    try {\n",
       "      root._bokeh_onload_callbacks.forEach(function(callback) {\n",
       "        if (callback != null)\n",
       "          callback();\n",
       "      });\n",
       "    } finally {\n",
       "      delete root._bokeh_onload_callbacks\n",
       "    }\n",
       "    console.debug(\"Bokeh: all callbacks have finished\");\n",
       "  }\n",
       "\n",
       "  function load_libs(css_urls, js_urls, callback) {\n",
       "    if (css_urls == null) css_urls = [];\n",
       "    if (js_urls == null) js_urls = [];\n",
       "\n",
       "    root._bokeh_onload_callbacks.push(callback);\n",
       "    if (root._bokeh_is_loading > 0) {\n",
       "      console.debug(\"Bokeh: BokehJS is being loaded, scheduling callback at\", now());\n",
       "      return null;\n",
       "    }\n",
       "    if (js_urls == null || js_urls.length === 0) {\n",
       "      run_callbacks();\n",
       "      return null;\n",
       "    }\n",
       "    console.debug(\"Bokeh: BokehJS not loaded, scheduling load and callback at\", now());\n",
       "    root._bokeh_is_loading = css_urls.length + js_urls.length;\n",
       "\n",
       "    function on_load() {\n",
       "      root._bokeh_is_loading--;\n",
       "      if (root._bokeh_is_loading === 0) {\n",
       "        console.debug(\"Bokeh: all BokehJS libraries/stylesheets loaded\");\n",
       "        run_callbacks()\n",
       "      }\n",
       "    }\n",
       "\n",
       "    function on_error() {\n",
       "      console.error(\"failed to load \" + url);\n",
       "    }\n",
       "\n",
       "    for (var i = 0; i < css_urls.length; i++) {\n",
       "      var url = css_urls[i];\n",
       "      const element = document.createElement(\"link\");\n",
       "      element.onload = on_load;\n",
       "      element.onerror = on_error;\n",
       "      element.rel = \"stylesheet\";\n",
       "      element.type = \"text/css\";\n",
       "      element.href = url;\n",
       "      console.debug(\"Bokeh: injecting link tag for BokehJS stylesheet: \", url);\n",
       "      document.body.appendChild(element);\n",
       "    }\n",
       "\n",
       "    const hashes = {\"https://cdn.bokeh.org/bokeh/release/bokeh-2.0.2.min.js\": \"ufR9RFnRs6lniiaFvtJziE0YeidtAgBRH6ux2oUItHw5WTvE1zuk9uzhUU/FJXDp\", \"https://cdn.bokeh.org/bokeh/release/bokeh-widgets-2.0.2.min.js\": \"8QM/PGWBT+IssZuRcDcjzwIh1mkOmJSoNMmyYDZbCfXJg3Ap1lEvdVgFuSAwhb/J\", \"https://cdn.bokeh.org/bokeh/release/bokeh-tables-2.0.2.min.js\": \"Jm8cH3Rg0P6UeZhVY5cLy1WzKajUT9KImCY+76hEqrcJt59/d8GPvFHjCkYgnSIn\", \"https://cdn.bokeh.org/bokeh/release/bokeh-gl-2.0.2.min.js\": \"Ozhzj+SI7ywm74aOI/UajcWz+C0NjsPunEVyVIrxzYkB+jA+2tUw8x5xJCbVtK5I\"};\n",
       "\n",
       "    for (var i = 0; i < js_urls.length; i++) {\n",
       "      var url = js_urls[i];\n",
       "      var element = document.createElement('script');\n",
       "      element.onload = on_load;\n",
       "      element.onerror = on_error;\n",
       "      element.async = false;\n",
       "      element.src = url;\n",
       "      if (url in hashes) {\n",
       "        element.crossOrigin = \"anonymous\";\n",
       "        element.integrity = \"sha384-\" + hashes[url];\n",
       "      }\n",
       "      console.debug(\"Bokeh: injecting script tag for BokehJS library: \", url);\n",
       "      document.head.appendChild(element);\n",
       "    }\n",
       "  };\n",
       "\n",
       "  function inject_raw_css(css) {\n",
       "    const element = document.createElement(\"style\");\n",
       "    element.appendChild(document.createTextNode(css));\n",
       "    document.body.appendChild(element);\n",
       "  }\n",
       "\n",
       "  \n",
       "  var js_urls = [\"https://cdn.bokeh.org/bokeh/release/bokeh-2.0.2.min.js\", \"https://cdn.bokeh.org/bokeh/release/bokeh-widgets-2.0.2.min.js\", \"https://cdn.bokeh.org/bokeh/release/bokeh-tables-2.0.2.min.js\", \"https://cdn.bokeh.org/bokeh/release/bokeh-gl-2.0.2.min.js\"];\n",
       "  var css_urls = [];\n",
       "  \n",
       "\n",
       "  var inline_js = [\n",
       "    function(Bokeh) {\n",
       "      Bokeh.set_log_level(\"info\");\n",
       "    },\n",
       "    function(Bokeh) {\n",
       "    \n",
       "    \n",
       "    }\n",
       "  ];\n",
       "\n",
       "  function run_inline_js() {\n",
       "    \n",
       "    if (root.Bokeh !== undefined || force === true) {\n",
       "      \n",
       "    for (var i = 0; i < inline_js.length; i++) {\n",
       "      inline_js[i].call(root, root.Bokeh);\n",
       "    }\n",
       "    if (force === true) {\n",
       "        display_loaded();\n",
       "      }} else if (Date.now() < root._bokeh_timeout) {\n",
       "      setTimeout(run_inline_js, 100);\n",
       "    } else if (!root._bokeh_failed_load) {\n",
       "      console.log(\"Bokeh: BokehJS failed to load within specified timeout.\");\n",
       "      root._bokeh_failed_load = true;\n",
       "    } else if (force !== true) {\n",
       "      var cell = $(document.getElementById(\"1001\")).parents('.cell').data().cell;\n",
       "      cell.output_area.append_execute_result(NB_LOAD_WARNING)\n",
       "    }\n",
       "\n",
       "  }\n",
       "\n",
       "  if (root._bokeh_is_loading === 0) {\n",
       "    console.debug(\"Bokeh: BokehJS loaded, going straight to plotting\");\n",
       "    run_inline_js();\n",
       "  } else {\n",
       "    load_libs(css_urls, js_urls, function() {\n",
       "      console.debug(\"Bokeh: BokehJS plotting callback run at\", now());\n",
       "      run_inline_js();\n",
       "    });\n",
       "  }\n",
       "}(window));"
      ],
      "application/vnd.bokehjs_load.v0+json": "\n(function(root) {\n  function now() {\n    return new Date();\n  }\n\n  var force = true;\n\n  if (typeof root._bokeh_onload_callbacks === \"undefined\" || force === true) {\n    root._bokeh_onload_callbacks = [];\n    root._bokeh_is_loading = undefined;\n  }\n\n  \n\n  \n  if (typeof (root._bokeh_timeout) === \"undefined\" || force === true) {\n    root._bokeh_timeout = Date.now() + 5000;\n    root._bokeh_failed_load = false;\n  }\n\n  var NB_LOAD_WARNING = {'data': {'text/html':\n     \"<div style='background-color: #fdd'>\\n\"+\n     \"<p>\\n\"+\n     \"BokehJS does not appear to have successfully loaded. If loading BokehJS from CDN, this \\n\"+\n     \"may be due to a slow or bad network connection. Possible fixes:\\n\"+\n     \"</p>\\n\"+\n     \"<ul>\\n\"+\n     \"<li>re-rerun `output_notebook()` to attempt to load from CDN again, or</li>\\n\"+\n     \"<li>use INLINE resources instead, as so:</li>\\n\"+\n     \"</ul>\\n\"+\n     \"<code>\\n\"+\n     \"from bokeh.resources import INLINE\\n\"+\n     \"output_notebook(resources=INLINE)\\n\"+\n     \"</code>\\n\"+\n     \"</div>\"}};\n\n  function display_loaded() {\n    var el = document.getElementById(\"1001\");\n    if (el != null) {\n      el.textContent = \"BokehJS is loading...\";\n    }\n    if (root.Bokeh !== undefined) {\n      if (el != null) {\n        el.textContent = \"BokehJS \" + root.Bokeh.version + \" successfully loaded.\";\n      }\n    } else if (Date.now() < root._bokeh_timeout) {\n      setTimeout(display_loaded, 100)\n    }\n  }\n\n\n  function run_callbacks() {\n    try {\n      root._bokeh_onload_callbacks.forEach(function(callback) {\n        if (callback != null)\n          callback();\n      });\n    } finally {\n      delete root._bokeh_onload_callbacks\n    }\n    console.debug(\"Bokeh: all callbacks have finished\");\n  }\n\n  function load_libs(css_urls, js_urls, callback) {\n    if (css_urls == null) css_urls = [];\n    if (js_urls == null) js_urls = [];\n\n    root._bokeh_onload_callbacks.push(callback);\n    if (root._bokeh_is_loading > 0) {\n      console.debug(\"Bokeh: BokehJS is being loaded, scheduling callback at\", now());\n      return null;\n    }\n    if (js_urls == null || js_urls.length === 0) {\n      run_callbacks();\n      return null;\n    }\n    console.debug(\"Bokeh: BokehJS not loaded, scheduling load and callback at\", now());\n    root._bokeh_is_loading = css_urls.length + js_urls.length;\n\n    function on_load() {\n      root._bokeh_is_loading--;\n      if (root._bokeh_is_loading === 0) {\n        console.debug(\"Bokeh: all BokehJS libraries/stylesheets loaded\");\n        run_callbacks()\n      }\n    }\n\n    function on_error() {\n      console.error(\"failed to load \" + url);\n    }\n\n    for (var i = 0; i < css_urls.length; i++) {\n      var url = css_urls[i];\n      const element = document.createElement(\"link\");\n      element.onload = on_load;\n      element.onerror = on_error;\n      element.rel = \"stylesheet\";\n      element.type = \"text/css\";\n      element.href = url;\n      console.debug(\"Bokeh: injecting link tag for BokehJS stylesheet: \", url);\n      document.body.appendChild(element);\n    }\n\n    const hashes = {\"https://cdn.bokeh.org/bokeh/release/bokeh-2.0.2.min.js\": \"ufR9RFnRs6lniiaFvtJziE0YeidtAgBRH6ux2oUItHw5WTvE1zuk9uzhUU/FJXDp\", \"https://cdn.bokeh.org/bokeh/release/bokeh-widgets-2.0.2.min.js\": \"8QM/PGWBT+IssZuRcDcjzwIh1mkOmJSoNMmyYDZbCfXJg3Ap1lEvdVgFuSAwhb/J\", \"https://cdn.bokeh.org/bokeh/release/bokeh-tables-2.0.2.min.js\": \"Jm8cH3Rg0P6UeZhVY5cLy1WzKajUT9KImCY+76hEqrcJt59/d8GPvFHjCkYgnSIn\", \"https://cdn.bokeh.org/bokeh/release/bokeh-gl-2.0.2.min.js\": \"Ozhzj+SI7ywm74aOI/UajcWz+C0NjsPunEVyVIrxzYkB+jA+2tUw8x5xJCbVtK5I\"};\n\n    for (var i = 0; i < js_urls.length; i++) {\n      var url = js_urls[i];\n      var element = document.createElement('script');\n      element.onload = on_load;\n      element.onerror = on_error;\n      element.async = false;\n      element.src = url;\n      if (url in hashes) {\n        element.crossOrigin = \"anonymous\";\n        element.integrity = \"sha384-\" + hashes[url];\n      }\n      console.debug(\"Bokeh: injecting script tag for BokehJS library: \", url);\n      document.head.appendChild(element);\n    }\n  };\n\n  function inject_raw_css(css) {\n    const element = document.createElement(\"style\");\n    element.appendChild(document.createTextNode(css));\n    document.body.appendChild(element);\n  }\n\n  \n  var js_urls = [\"https://cdn.bokeh.org/bokeh/release/bokeh-2.0.2.min.js\", \"https://cdn.bokeh.org/bokeh/release/bokeh-widgets-2.0.2.min.js\", \"https://cdn.bokeh.org/bokeh/release/bokeh-tables-2.0.2.min.js\", \"https://cdn.bokeh.org/bokeh/release/bokeh-gl-2.0.2.min.js\"];\n  var css_urls = [];\n  \n\n  var inline_js = [\n    function(Bokeh) {\n      Bokeh.set_log_level(\"info\");\n    },\n    function(Bokeh) {\n    \n    \n    }\n  ];\n\n  function run_inline_js() {\n    \n    if (root.Bokeh !== undefined || force === true) {\n      \n    for (var i = 0; i < inline_js.length; i++) {\n      inline_js[i].call(root, root.Bokeh);\n    }\n    if (force === true) {\n        display_loaded();\n      }} else if (Date.now() < root._bokeh_timeout) {\n      setTimeout(run_inline_js, 100);\n    } else if (!root._bokeh_failed_load) {\n      console.log(\"Bokeh: BokehJS failed to load within specified timeout.\");\n      root._bokeh_failed_load = true;\n    } else if (force !== true) {\n      var cell = $(document.getElementById(\"1001\")).parents('.cell').data().cell;\n      cell.output_area.append_execute_result(NB_LOAD_WARNING)\n    }\n\n  }\n\n  if (root._bokeh_is_loading === 0) {\n    console.debug(\"Bokeh: BokehJS loaded, going straight to plotting\");\n    run_inline_js();\n  } else {\n    load_libs(css_urls, js_urls, function() {\n      console.debug(\"Bokeh: BokehJS plotting callback run at\", now());\n      run_inline_js();\n    });\n  }\n}(window));"
     },
     "metadata": {},
     "output_type": "display_data"
    }
   ],
   "source": [
    "#defining the chart\n",
    "output_notebook()\n",
    "plot_tfidf = bp.figure(plot_width=700, plot_height=600, title=\"A map of 2659 word vectors\",\n",
    "    tools=\"pan,wheel_zoom,box_zoom,reset,hover\",\n",
    "    x_axis_type=None, y_axis_type=None, min_border=1)"
   ]
  },
  {
   "cell_type": "code",
   "execution_count": 10,
   "metadata": {},
   "outputs": [
    {
     "name": "stderr",
     "output_type": "stream",
     "text": [
      "C:\\Users\\Medha Joshi\\Anaconda3\\lib\\site-packages\\ipykernel_launcher.py:1: DeprecationWarning: Call to deprecated `__getitem__` (Method will be removed in 4.0.0, use self.wv.__getitem__() instead).\n",
      "  \"\"\"Entry point for launching an IPython kernel.\n"
     ]
    }
   ],
   "source": [
    "word_vectors = [tweet_w2v[w] for w in list(tweet_w2v.wv.vocab.keys())[:2000]]"
   ]
  },
  {
   "cell_type": "code",
   "execution_count": 11,
   "metadata": {},
   "outputs": [
    {
     "name": "stdout",
     "output_type": "stream",
     "text": [
      "[t-SNE] Computing 91 nearest neighbors...\n",
      "[t-SNE] Indexed 2000 samples in 0.094s...\n",
      "[t-SNE] Computed neighbors for 2000 samples in 0.429s...\n",
      "[t-SNE] Computed conditional probabilities for sample 1000 / 2000\n",
      "[t-SNE] Computed conditional probabilities for sample 2000 / 2000\n",
      "[t-SNE] Mean sigma: 0.012994\n",
      "[t-SNE] KL divergence after 250 iterations with early exaggeration: 56.392811\n",
      "[t-SNE] KL divergence after 1000 iterations: 0.449129\n"
     ]
    }
   ],
   "source": [
    "# dimensionality reduction. converting the vectors to 2d vectors\n",
    "from sklearn.manifold import TSNE\n",
    "tsne_model = TSNE(n_components=2, verbose=1, random_state=0)\n",
    "tsne_w2v = tsne_model.fit_transform(word_vectors)"
   ]
  },
  {
   "cell_type": "code",
   "execution_count": 12,
   "metadata": {},
   "outputs": [],
   "source": [
    "# putting everything in a dataframe\n",
    "tsne_df = pd.DataFrame(tsne_w2v, columns=['x', 'y'])\n",
    "tsne_df['words'] = list(tweet_w2v.wv.vocab.keys())[:2000]"
   ]
  },
  {
   "cell_type": "code",
   "execution_count": 13,
   "metadata": {},
   "outputs": [
    {
     "data": {
      "text/html": [
       "\n",
       "\n",
       "\n",
       "\n",
       "\n",
       "\n",
       "  <div class=\"bk-root\" id=\"c082dc77-1742-4bb7-a666-9cbf250015b8\" data-root-id=\"1002\"></div>\n"
      ]
     },
     "metadata": {},
     "output_type": "display_data"
    },
    {
     "data": {
      "application/javascript": [
       "(function(root) {\n",
       "  function embed_document(root) {\n",
       "    \n",
       "  var docs_json = {\"5a7e58ce-bf94-4467-beab-0e45db52cf58\":{\"roots\":{\"references\":[{\"attributes\":{\"min_border\":1,\"plot_width\":700,\"renderers\":[{\"id\":\"1029\"}],\"title\":{\"id\":\"1003\"},\"toolbar\":{\"id\":\"1019\"},\"x_range\":{\"id\":\"1005\"},\"x_scale\":{\"id\":\"1009\"},\"y_range\":{\"id\":\"1007\"},\"y_scale\":{\"id\":\"1011\"}},\"id\":\"1002\",\"subtype\":\"Figure\",\"type\":\"Plot\"},{\"attributes\":{\"callback\":null,\"tooltips\":[[\"word\",\"@words\"]]},\"id\":\"1017\",\"type\":\"HoverTool\"},{\"attributes\":{},\"id\":\"1009\",\"type\":\"LinearScale\"},{\"attributes\":{\"bottom_units\":\"screen\",\"fill_alpha\":0.5,\"fill_color\":\"lightgrey\",\"left_units\":\"screen\",\"level\":\"overlay\",\"line_alpha\":1.0,\"line_color\":\"black\",\"line_dash\":[4,4],\"line_width\":2,\"render_mode\":\"css\",\"right_units\":\"screen\",\"top_units\":\"screen\"},\"id\":\"1018\",\"type\":\"BoxAnnotation\"},{\"attributes\":{\"fill_alpha\":{\"value\":0.1},\"fill_color\":{\"value\":\"#1f77b4\"},\"line_alpha\":{\"value\":0.1},\"line_color\":{\"value\":\"#1f77b4\"},\"x\":{\"field\":\"x\"},\"y\":{\"field\":\"y\"}},\"id\":\"1028\",\"type\":\"Scatter\"},{\"attributes\":{},\"id\":\"1014\",\"type\":\"WheelZoomTool\"},{\"attributes\":{\"data\":{\"index\":[0,1,2,3,4,5,6,7,8,9,10,11,12,13,14,15,16,17,18,19,20,21,22,23,24,25,26,27,28,29,30,31,32,33,34,35,36,37,38,39,40,41,42,43,44,45,46,47,48,49,50,51,52,53,54,55,56,57,58,59,60,61,62,63,64,65,66,67,68,69,70,71,72,73,74,75,76,77,78,79,80,81,82,83,84,85,86,87,88,89,90,91,92,93,94,95,96,97,98,99,100,101,102,103,104,105,106,107,108,109,110,111,112,113,114,115,116,117,118,119,120,121,122,123,124,125,126,127,128,129,130,131,132,133,134,135,136,137,138,139,140,141,142,143,144,145,146,147,148,149,150,151,152,153,154,155,156,157,158,159,160,161,162,163,164,165,166,167,168,169,170,171,172,173,174,175,176,177,178,179,180,181,182,183,184,185,186,187,188,189,190,191,192,193,194,195,196,197,198,199,200,201,202,203,204,205,206,207,208,209,210,211,212,213,214,215,216,217,218,219,220,221,222,223,224,225,226,227,228,229,230,231,232,233,234,235,236,237,238,239,240,241,242,243,244,245,246,247,248,249,250,251,252,253,254,255,256,257,258,259,260,261,262,263,264,265,266,267,268,269,270,271,272,273,274,275,276,277,278,279,280,281,282,283,284,285,286,287,288,289,290,291,292,293,294,295,296,297,298,299,300,301,302,303,304,305,306,307,308,309,310,311,312,313,314,315,316,317,318,319,320,321,322,323,324,325,326,327,328,329,330,331,332,333,334,335,336,337,338,339,340,341,342,343,344,345,346,347,348,349,350,351,352,353,354,355,356,357,358,359,360,361,362,363,364,365,366,367,368,369,370,371,372,373,374,375,376,377,378,379,380,381,382,383,384,385,386,387,388,389,390,391,392,393,394,395,396,397,398,399,400,401,402,403,404,405,406,407,408,409,410,411,412,413,414,415,416,417,418,419,420,421,422,423,424,425,426,427,428,429,430,431,432,433,434,435,436,437,438,439,440,441,442,443,444,445,446,447,448,449,450,451,452,453,454,455,456,457,458,459,460,461,462,463,464,465,466,467,468,469,470,471,472,473,474,475,476,477,478,479,480,481,482,483,484,485,486,487,488,489,490,491,492,493,494,495,496,497,498,499,500,501,502,503,504,505,506,507,508,509,510,511,512,513,514,515,516,517,518,519,520,521,522,523,524,525,526,527,528,529,530,531,532,533,534,535,536,537,538,539,540,541,542,543,544,545,546,547,548,549,550,551,552,553,554,555,556,557,558,559,560,561,562,563,564,565,566,567,568,569,570,571,572,573,574,575,576,577,578,579,580,581,582,583,584,585,586,587,588,589,590,591,592,593,594,595,596,597,598,599,600,601,602,603,604,605,606,607,608,609,610,611,612,613,614,615,616,617,618,619,620,621,622,623,624,625,626,627,628,629,630,631,632,633,634,635,636,637,638,639,640,641,642,643,644,645,646,647,648,649,650,651,652,653,654,655,656,657,658,659,660,661,662,663,664,665,666,667,668,669,670,671,672,673,674,675,676,677,678,679,680,681,682,683,684,685,686,687,688,689,690,691,692,693,694,695,696,697,698,699,700,701,702,703,704,705,706,707,708,709,710,711,712,713,714,715,716,717,718,719,720,721,722,723,724,725,726,727,728,729,730,731,732,733,734,735,736,737,738,739,740,741,742,743,744,745,746,747,748,749,750,751,752,753,754,755,756,757,758,759,760,761,762,763,764,765,766,767,768,769,770,771,772,773,774,775,776,777,778,779,780,781,782,783,784,785,786,787,788,789,790,791,792,793,794,795,796,797,798,799,800,801,802,803,804,805,806,807,808,809,810,811,812,813,814,815,816,817,818,819,820,821,822,823,824,825,826,827,828,829,830,831,832,833,834,835,836,837,838,839,840,841,842,843,844,845,846,847,848,849,850,851,852,853,854,855,856,857,858,859,860,861,862,863,864,865,866,867,868,869,870,871,872,873,874,875,876,877,878,879,880,881,882,883,884,885,886,887,888,889,890,891,892,893,894,895,896,897,898,899,900,901,902,903,904,905,906,907,908,909,910,911,912,913,914,915,916,917,918,919,920,921,922,923,924,925,926,927,928,929,930,931,932,933,934,935,936,937,938,939,940,941,942,943,944,945,946,947,948,949,950,951,952,953,954,955,956,957,958,959,960,961,962,963,964,965,966,967,968,969,970,971,972,973,974,975,976,977,978,979,980,981,982,983,984,985,986,987,988,989,990,991,992,993,994,995,996,997,998,999,1000,1001,1002,1003,1004,1005,1006,1007,1008,1009,1010,1011,1012,1013,1014,1015,1016,1017,1018,1019,1020,1021,1022,1023,1024,1025,1026,1027,1028,1029,1030,1031,1032,1033,1034,1035,1036,1037,1038,1039,1040,1041,1042,1043,1044,1045,1046,1047,1048,1049,1050,1051,1052,1053,1054,1055,1056,1057,1058,1059,1060,1061,1062,1063,1064,1065,1066,1067,1068,1069,1070,1071,1072,1073,1074,1075,1076,1077,1078,1079,1080,1081,1082,1083,1084,1085,1086,1087,1088,1089,1090,1091,1092,1093,1094,1095,1096,1097,1098,1099,1100,1101,1102,1103,1104,1105,1106,1107,1108,1109,1110,1111,1112,1113,1114,1115,1116,1117,1118,1119,1120,1121,1122,1123,1124,1125,1126,1127,1128,1129,1130,1131,1132,1133,1134,1135,1136,1137,1138,1139,1140,1141,1142,1143,1144,1145,1146,1147,1148,1149,1150,1151,1152,1153,1154,1155,1156,1157,1158,1159,1160,1161,1162,1163,1164,1165,1166,1167,1168,1169,1170,1171,1172,1173,1174,1175,1176,1177,1178,1179,1180,1181,1182,1183,1184,1185,1186,1187,1188,1189,1190,1191,1192,1193,1194,1195,1196,1197,1198,1199,1200,1201,1202,1203,1204,1205,1206,1207,1208,1209,1210,1211,1212,1213,1214,1215,1216,1217,1218,1219,1220,1221,1222,1223,1224,1225,1226,1227,1228,1229,1230,1231,1232,1233,1234,1235,1236,1237,1238,1239,1240,1241,1242,1243,1244,1245,1246,1247,1248,1249,1250,1251,1252,1253,1254,1255,1256,1257,1258,1259,1260,1261,1262,1263,1264,1265,1266,1267,1268,1269,1270,1271,1272,1273,1274,1275,1276,1277,1278,1279,1280,1281,1282,1283,1284,1285,1286,1287,1288,1289,1290,1291,1292,1293,1294,1295,1296,1297,1298,1299,1300,1301,1302,1303,1304,1305,1306,1307,1308,1309,1310,1311,1312,1313,1314,1315,1316,1317,1318,1319,1320,1321,1322,1323,1324,1325,1326,1327,1328,1329,1330,1331,1332,1333,1334,1335,1336,1337,1338,1339,1340,1341,1342,1343,1344,1345,1346,1347,1348,1349,1350,1351,1352,1353,1354,1355,1356,1357,1358,1359,1360,1361,1362,1363,1364,1365,1366,1367,1368,1369,1370,1371,1372,1373,1374,1375,1376,1377,1378,1379,1380,1381,1382,1383,1384,1385,1386,1387,1388,1389,1390,1391,1392,1393,1394,1395,1396,1397,1398,1399,1400,1401,1402,1403,1404,1405,1406,1407,1408,1409,1410,1411,1412,1413,1414,1415,1416,1417,1418,1419,1420,1421,1422,1423,1424,1425,1426,1427,1428,1429,1430,1431,1432,1433,1434,1435,1436,1437,1438,1439,1440,1441,1442,1443,1444,1445,1446,1447,1448,1449,1450,1451,1452,1453,1454,1455,1456,1457,1458,1459,1460,1461,1462,1463,1464,1465,1466,1467,1468,1469,1470,1471,1472,1473,1474,1475,1476,1477,1478,1479,1480,1481,1482,1483,1484,1485,1486,1487,1488,1489,1490,1491,1492,1493,1494,1495,1496,1497,1498,1499,1500,1501,1502,1503,1504,1505,1506,1507,1508,1509,1510,1511,1512,1513,1514,1515,1516,1517,1518,1519,1520,1521,1522,1523,1524,1525,1526,1527,1528,1529,1530,1531,1532,1533,1534,1535,1536,1537,1538,1539,1540,1541,1542,1543,1544,1545,1546,1547,1548,1549,1550,1551,1552,1553,1554,1555,1556,1557,1558,1559,1560,1561,1562,1563,1564,1565,1566,1567,1568,1569,1570,1571,1572,1573,1574,1575,1576,1577,1578,1579,1580,1581,1582,1583,1584,1585,1586,1587,1588,1589,1590,1591,1592,1593,1594,1595,1596,1597,1598,1599,1600,1601,1602,1603,1604,1605,1606,1607,1608,1609,1610,1611,1612,1613,1614,1615,1616,1617,1618,1619,1620,1621,1622,1623,1624,1625,1626,1627,1628,1629,1630,1631,1632,1633,1634,1635,1636,1637,1638,1639,1640,1641,1642,1643,1644,1645,1646,1647,1648,1649,1650,1651,1652,1653,1654,1655,1656,1657,1658,1659,1660,1661,1662,1663,1664,1665,1666,1667,1668,1669,1670,1671,1672,1673,1674,1675,1676,1677,1678,1679,1680,1681,1682,1683,1684,1685,1686,1687,1688,1689,1690,1691,1692,1693,1694,1695,1696,1697,1698,1699,1700,1701,1702,1703,1704,1705,1706,1707,1708,1709,1710,1711,1712,1713,1714,1715,1716,1717,1718,1719,1720,1721,1722,1723,1724,1725,1726,1727,1728,1729,1730,1731,1732,1733,1734,1735,1736,1737,1738,1739,1740,1741,1742,1743,1744,1745,1746,1747,1748,1749,1750,1751,1752,1753,1754,1755,1756,1757,1758,1759,1760,1761,1762,1763,1764,1765,1766,1767,1768,1769,1770,1771,1772,1773,1774,1775,1776,1777,1778,1779,1780,1781,1782,1783,1784,1785,1786,1787,1788,1789,1790,1791,1792,1793,1794,1795,1796,1797,1798,1799,1800,1801,1802,1803,1804,1805,1806,1807,1808,1809,1810,1811,1812,1813,1814,1815,1816,1817,1818,1819,1820,1821,1822,1823,1824,1825,1826,1827,1828,1829,1830,1831,1832,1833,1834,1835,1836,1837,1838,1839,1840,1841,1842,1843,1844,1845,1846,1847,1848,1849,1850,1851,1852,1853,1854,1855,1856,1857,1858,1859,1860,1861,1862,1863,1864,1865,1866,1867,1868,1869,1870,1871,1872,1873,1874,1875,1876,1877,1878,1879,1880,1881,1882,1883,1884,1885,1886,1887,1888,1889,1890,1891,1892,1893,1894,1895,1896,1897,1898,1899,1900,1901,1902,1903,1904,1905,1906,1907,1908,1909,1910,1911,1912,1913,1914,1915,1916,1917,1918,1919,1920,1921,1922,1923,1924,1925,1926,1927,1928,1929,1930,1931,1932,1933,1934,1935,1936,1937,1938,1939,1940,1941,1942,1943,1944,1945,1946,1947,1948,1949,1950,1951,1952,1953,1954,1955,1956,1957,1958,1959,1960,1961,1962,1963,1964,1965,1966,1967,1968,1969,1970,1971,1972,1973,1974,1975,1976,1977,1978,1979,1980,1981,1982,1983,1984,1985,1986,1987,1988,1989,1990,1991,1992,1993,1994,1995,1996,1997,1998,1999],\"words\":[\":\",\"rt\",\"AT_USER\",\"are\",\"you\",\"making\",\"the\",\"move\",\"from\",\"googleapps\",\"to\",\"microsoft\",\"?\",\">\",\"metalogix\",\"can\",\"migrate\",\"y\",\"...\",\"URL\",\"\\\"\",\"details\",\"windows\",\"8\",\"search\",\"improvements\",\"-\",\"via\",\"had\",\"issues\",\"with\",\"siri\",\"reaching\",\"network\",\"today\",\".\",\"too\",\"many\",\"uses\",\"or\",\"my\",\"signal\",\"in\",\"that\",\"twitter\",\"mood\",\"!\",\"ihs\",\"iphone\",\"4s\",\"shows\",\"key\",\"design\",\"and\",\"component\",\"changes\",\"apple\",\"iphome\",\"ios\",\"5\",\"poll\",\"q\",\"r\",\"u\",\"pissed\",\"banned\",\"this\",\"video\",\"f8ball\",\"90\",\"minutes\",\"after\",\"being\",\"at\",\"100\",\"%\",\"4\",\"(\",\"post\",\"upgrade\",\")\",\"has\",\"lost\",\"40\",\"of\",\"its\",\"charge\",\"store\",\"folks\",\"out\",\"ideas\",\"google\",\"announces\",\"nfc-based\",\"android\",\"beam\",\"for\",\"sharing\",\"between\",\"phones\",\"gotta\",\"say\",\"itouch\",\"etc\",\"..\",\"sound\",\"quality\",\"is\",\"awful\",\"painfully\",\"crap\",\"been\",\"a\",\"wise\",\"error\",\"when\",\"we\",\"try\",\"link\",\"support\",\"community\",\"detailing\",\"how\",\"turn\",\"off\",\"auto\",\"renewal\",\"subscriptions\",\"@\",\"watching\",\"new\",\"action\",\"pretty\",\"impressive\",\"finally\",\"mac\",\"os\",\"interesting\",\"battle\",\"vs\",\"two\",\"opposite\",\"building\",\"an\",\"osx\",\"bored\",\"need\",\"app\",\"ipad\",\"any\",\"steve\",\"ballmer\",\"slams\",\"steveballmer\",\"just\",\"registered\",\"as\",\"developer\",\"here's\",\"hoping\",\"i\",\"actually\",\"do\",\"it\",\"help\",\",\",\"greatly\",\"appreciated\",\"4.0\",\"sdk\",\"now\",\"available\",\"thoughts\",\"on\",\"ice\",\"cream\",\"sandwich\",\"samsung\",\"galaxy\",\"nexus\",\"talk\",\"one\",\"would\",\"think\",\"voice\",\"recognition\",\"tech\",\"line\",\"work\",\"little\",\"better\",\"good\",\"read\",\"up\",\"privacy\",\"game\",\"launches\",\"know\",\"oct\",\"18\",\"won't\",\"let\",\"me\",\"use\",\"credit\",\"unless\",\"have\",\"card\",\"should\",\"told\",\"cards\",\"itunes\",\"worst\",\"program\",\"ever\",\"such\",\"great\",\"phone\",\"make\",\"some\",\"software\",\"well\",\"maybe\",\"if\",\"set\",\"ya\",\"products\",\"send\",\"push\",\"go\",\"through\",\"all\",\"ics\",\"saw\",\"bud\",\"agricole\",\"securities\",\"interviewed\",\"by\",\"covering\",\"their\",\"hold\",\"music\",\"played\",\"pictures\",\"update\",\"officially\",\"calls\",\"$\",\"per\",\"they\",\"sold\",\"million\",\"weekend\",\"that's\",\"another\",\"billion\",\"apples\",\"don't\",\"see\",\"point\",\"following\",\"news\",\"station\",\"there's\",\"people\",\"tweet\",\"about\",\"anyway\",\"fuckyoumean\",\"pittsburgh\",\"got\",\"best\",\"\\u00bb\",\"only\",\"thing\",\"done\",\"tiger\",\"made\",\"impossible\",\"thanks\",\"ok\",\"your\",\"policy\",\"hand\",\"powered\",\"kidding\",\"galaxynexus\",\"but\",\"against\",\"adobe\",\"flash\",\"consider\",\"youtube\",\"future\",\"ur\",\"site\",\"suck\",\"restore\",\"annoyed\",\"earth\",\"helps\",\"hit\",\"usage\",\"does\",\"even\",\"happen\",\"i'm\",\"doing\",\"was\",\"almost\",\"ugh\",\"ceo\",\"steve_ballmer\",\"not\",\"buying\",\"yahoo\",\"\\u201c\",\"sometimes\",\"\\u2019\",\"re\",\"lucky\",\"\\u201d\",\"6\",\"women\",\"info\",\"health\",\"care\",\"28\",\"men\",\"->\",\"hcsmeu\",\"installed\",\"7\",\"ultimate\",\"service\",\"pack\",\"1\",\"ie9\",\"looks\",\"like\",\"trying\",\"look\",\"chrome\",\"three\",\"uk\",\"carry\",\"sells\",\"units\",\"first\",\"jobs\",\"net\",\"together\",\"dotnet\",\"dev\",\"perhaps\",\"it's\",\"time\",\"come\",\"called\",\"lets\",\"which\",\"apps\",\"battery\",\"life\",\"says\",\"company\",\"deal\",\"fell\",\"apart\",\"builds\",\"functioning\",\"'\",\"holodesk\",\"interact\",\"digital\",\"items\",\"technological\",\"cloudcomputing\",\"ms\",\"generation\",\"microsoft's\",\"kinect\",\"brings\",\"playful\",\"learning\",\"xbox\",\"360\",\"sprint\",\"verizon\",\"&\",\"t\",\"stores\",\"also\",\"missing\",\"something\",\"here\",\"thought\",\"bought\",\"motorola\",\"mobile\",\"so\",\"what's\",\"love\",\"why\",\"am\",\"updating\",\"folder\",\"location\",\"painful\",\"manage\",\"newsstand\",\"under\",\"settings\",\"want\",\"what\",\"customers\",\"dont\",\"updates\",\"return\",\"address\",\"who\",\"invented\",\"useless\",\"dhilipsiva\",\"using\",\"macbook\",\"ipod\",\"amazing\",\"icecreamsandwich\",\"|\",\"oh\",\"sales\",\"guy\",\"selling\",\"during\",\"over\",\"hmmm\",\"hey\",\"guys\",\"wtf\",\"happening\",\"black\",\"begin\",\"proof\",\"dad\",\"loves\",\"more\",\"woke\",\"door\",\"w\",\"he\",\"surprised\",\"went\",\"+\",\"=\",\"perfect\",\"icecream\",\"text\",\"o\",\"wait\",\"wont\",\"get\",\"cuz\",\"fucks\",\"every\",\"client\",\"office\",\"365\",\"webinar\",\"nov\",\"10\",\"m\",\"sign\",\"put\",\"autopilot\",\"gain\",\"followers\",\"teamfollowback\",\"1000aday\",\"13\",\"give\",\"back\",\"keyboard\",\"spell\",\"check\",\"nice\",\"no\",\"onto\",\"appletv\",\"fact\",\"qrcode\",\"alongside\",\"colour\",\"code\",\"format\",\"failing\",\"opinions\",\"really\",\"did\",\"facebook\",\"beat\",\"own\",\"socialmedia\",\"genius\",\"jus\",\"updated\",\"computer\",\"follow\",\"sm\",\"aren't\",\"same\",\"wanna\",\"be\",\"please\",\"believe\",\"crazy\",\"bitch\",\"ass\",\"event\",\"blog\",\"):\",\"30\",\"ice-cream\",\"take\",\"panorama\",\"picture\",\"right\",\"sweet\",\"gn\",\"minecraft\",\"mentioned\",\"while\",\"were\",\"prime\",\"confirms\",\"s\",\"will\",\"real\",\"gingerbread\",\"devices\",\"makes\",\"surface\",\"touch\",\"screen\",\"top\",\"related\",\"sites\",\"(:\",\"canon\",\"5d\",\"installing\",\"suppose\",\"forbes\",\"having\",\"hard\",\"contact\",\"needs\",\"space\",\"family\",\"four\",\"save\",\"version\",\"function\",\"pages\",\"absolutely\",\"most\",\"world\",\"power\",\"volume\",\"screenshot\",\"rooting\",\"required\",\"drop\",\"him\",\"show\",\"agree\",\"launching\",\"omnitouch\",\"funny\",\"though\",\"\\u2026\",\"cont\",\"http\",\"coming\",\"soon\",\"data\",\"3g\",\"pro\",\"anymore\",\"how's\",\"user\",\"liking\",\"latest\",\"neowin\",\"backside\",\"eye\",\"v\",\"impressed\",\"happy\",\"suggested\",\"nothing\",\"works\",\"gallery\",\"lies\",\"definitely\",\"question\",\"press\",\"release\",\"oomf\",\"gone\",\"next\",\"week\",\"promise\",\"man\",\"offer\",\"free\",\"microsoftstores\",\"else\",\"add\",\"win\",\"hello\",\"baby\",\"memories\",\"pampershelloapps\",\"cant\",\"remember\",\"straight\",\"n\",\"eclipsed\",\"announce\",\"ui\",\"feel\",\"guess\",\"users\",\":)\",\"nexusprime\",\"edu\",\"chat\",\"lync\",\"literally\",\"mind\",\"blown\",\"away\",\"/\",\"nokia\",\"employees\",\"still\",\"elop\",\"mole\",\"ripsteve\",\"seven\",\"rules\",\"success\",\"hpvirtualsystem\",\"development\",\"last\",\"white\",\"much\",\"feature\",\"few\",\"learn\",\"keep\",\"exchange\",\"costs\",\"low\",\"11am\",\"pacific\",\"netapp\",\"webcast\",\":/\",\"none\",\"ballmer's\",\"hate\",\"hide\",\"into\",\"sigsource\",\"tami\",\"reller\",\"bus\",\"road\",\"bye\",\";)\",\"able\",\"rt's\",\"tomorrow\",\"tell\",\"lil\",\"blue\",\"bird\",\"lock\",\"facial\",\"aka\",\"dear\",\"email\",\"technology\",\"official\",\"promo\",\"highlights\",\"thx\",\"certification\",\"practice\",\"exams\",\"hardware\",\"hella\",\"find\",\"friends\",\"except\",\"part\",\"where\",\"log\",\"everytime\",\"changed\",\"engineer\",\"ganna\",\"late\",\"thinks\",\"books\",\"belong\",\"bookcase\",\"webgl\",\"experiment\",\"school\",\"board\",\"county\",\"daily\",\"times\",\"reader\",\"tronman\",\"compares\",\"albatross\",\"around\",\"neck\",\"join\",\"live\",\"virtual\",\"buttons\",\"disappear\",\"full\",\"mode\",\"awesome\",\"widgets\",\"curate\",\"personal\",\"history\",\"project\",\"greenwich\",\"later\",\"month\",\"useful\",\"arrived\",\"heard\",\"problems\",\"yet\",\"wp7\",\"upgrading\",\"said\",\"could\",\"couple\",\"hours\",\"install\",\"control\",\"imessage\",\"starts\",\"playing\",\"pink\",\"flawless\",\"announced\",\"hopeful\",\"tonight\",\"specs\",\"carriers\",\"multiple\",\"trouble\",\"connecting\",\"getting\",\"mail\",\"la\",\"profit\",\"drops\",\"26\",\"cent\",\"hell\",\"enough\",\"ill\",\"ask\",\"wrong\",\"welcome\",\"friend\",\"hashtags\",\"doesn't\",\"fix\",\"droid\",\"emptythreats\",\"air\",\"since\",\"killed\",\"wifi\",\"bug\",\"destroying\",\"productivity\",\"big\",\"device\",\"features\",\"hear\",\"her\",\"tv\",\"she\",\"can't\",\"direct\",\"web\",\"tests\",\"proves\",\"appsense\",\"enterprise\",\"scalability\",\"78k\",\"personalization\",\"db\",\"ppl\",\"night\",\"everyone\",\"currently\",\"brand\",\"years\",\"old\",\"i'll\",\"miss\",\"cc\",\"outlook\",\"2011\",\"sucks\",\"spotted\",\"days\",\"ago\",\"didn't\",\"expect\",\"especially\",\"west\",\"everything\",\"developed\",\"research\",\"carnegie\",\"mellon\",\"university\",\"jet\",\"car\",\"stunts\",\"released\",\"quick\",\"minute\",\"im\",\"clothing\",\"suite\",\"review\",\"el\",\"para\",\"haha\",\"yo\",\"de\",\"av\",\"kill\",\"type\",\"l\",\"dark\",\"nite\",\"then\",\"mango\",\"taste\",\"roboto\",\"oem\",\"pay\",\"lol\",\"giving\",\"[\",\"]\",\"applies\",\"celebrity\",\"patent\",\"bing\",\"2\",\"preview\",\"offline\",\"amount\",\"emails\",\"online\",\"industry\",\"witnessing\",\"astounding\",\"revolution\",\"seal\",\"supreme\",\"console\",\"hong\",\"kong\",\"10.7\",\"lion\",\"broken\",\"glad\",\"thank\",\"recent\",\"study\",\"ctr\",\"reveals\",\"positions\",\"googlesearch\",\"receive\",\"35\",\"traffic\",\"going\",\"laptop\",\"releases\",\"infinite\",\"acquisition\",\"skype\",\"integrated\",\"unveiled\",\"sure\",\"advanced\",\"erp\",\"cloud\",\"dynamics\",\"book\",\"published\",\"sharepoint\",\"2010\",\"cookbook\",\"took\",\"exclusive\",\"ventures\",\"200\",\"tweets\",\"already\",\"damn\",\"twidroyd\",\"ft\",\"movie\",\"entreprise\",\"algeria\",\"3\",\"principal\",\"global\",\"players\",\"active\",\"market\",\"fbf\",\"11\",\"publaunch\",\"sorry\",\"never\",\"bbm\",\"disappointed\",\"tango\",\"apollo\",\"rumors\",\"suggest\",\"retweets\",\"account\",\"working\",\"17\",\"problem\",\"down\",\"bed\",\"favorite\",\"headed\",\"download\",\"system\",\"dump\",\"smartphone\",\"fixed\",\"anyone\",\"trial\",\"watch\",\"hangouts\",\"our\",\"play\",\"social\",\"again\",\"everybody\",\"wit\",\"tha\",\"light\",\"themselves\",\"way\",\"seriously\",\"least\",\"bless\",\"heart\",\"known\",\"#\",\"goin\",\"dead\",\"other\",\"operating\",\"systems\",\"androidbeam\",\"deals\",\"frozen\",\"xbl\",\"accounts\",\"gamers\",\"report\",\"hacked\",\"mainly\",\"business\",\"ibm\",\"sleep\",\"day\",\"unlocking\",\"rip\",\"mr\",\"billgates\",\"aprons\",\"ranked\",\"ltcartoon\",\"humor\",\"foodie\",\"job\",\"lose\",\"13.5\",\"bn\",\"piracy\",\"speechtrans\",\"listed\",\"bi-directional\",\"speech\",\"translator\",\"posts\",\"partner\",\"tablets\",\"hopefully\",\"often\",\"article\",\":d\",\"announcement\",\"round-up\",\"storage\",\"idisk\",\"plans\",\"reveal\",\"may\",\"fan\",\"eric\",\"holder\",\"than\",\"*\",\"supports\",\"notification\",\"bar\",\"home\",\"end\",\"those\",\"keys\",\"blow\",\"launch\",\"these\",\"past\",\"months\",\"cisco\",\"checking\",\"fb\",\"file\",\"easier\",\"files\",\"us\",\"messages\",\"either\",\"strangest\",\"feeling\",\"before\",\"early\",\"wars\",\"2012\",\"razr\",\"unveil\",\"sandwich-powered\",\"once\",\"customer\",\"mall\",\"nfc\",\"bit.ly/nejbye\",\"docs\",\"presentations\",\"real-time\",\"collaboration\",\"\\u2013\",\"cannot\",\"sell\",\"isn't\",\"fuck\",\"freeze\",\"fucking\",\"sick\",\"experience\",\"forward\",\"team\",\"include\",\"songs\",\"name\",\"age\",\"year\",\"24\",\"seconds\",\"yours\",\"twittertime\",\"mad\",\"cool\",\"lot\",\"zune\",\"i'd\",\"asked\",\"where's\",\"server\",\"fail\",\"morning\",\"instead\",\"pls\",\"marketing\",\"cnet\",\"logitech\",\"controller\",\"amazon\",\"infographic\",\"cost\",\"half\",\"build\",\"driving\",\"mark\",\"looking\",\"reviewing\",\"ipads\",\"easy\",\"<\",\"loving\",\"watson\",\"wish\",\"stop\",\"pissing\",\"ex\",\"goodnight\",\"sql\",\"driver\",\"linux\",\"opensource\",\"secure\",\"change\",\"encrypts\",\"queries\",\"google's\",\"partners\",\"accelerate\",\"rim\",\"wow\",\"beautiful\",\"totally\",\"gonna\",\"share\",\"smart\",\"meet\",\"click\",\"sms\",\"message\",\"complete\",\"shit\",\"yes\",\"fixing\",\"pc\",\"issue\",\"featured\",\"oracle\",\"along\",\"open\",\"training\",\"pm\",\"seeing\",\"god\",\"bad\",\"local\",\"apparently\",\"them\",\"gettin\",\"chance\",\"far\",\"face\",\"unlock\",\"failed\",\"scientist\",\"listening\",\"omg\",\"1st\",\"ad\",\"campaign\",\"circle\",\"focus\",\"product\",\"relevance\",\"there\",\"powerpoint\",\"color\",\"speed\",\"seems\",\"someone\",\"database\",\"vmware\",\"vmworld\",\"running\",\"dubai\",\"insight\",\"solutions\",\"drive\",\"organizations\",\"analytics\",\"media\",\"birthday\",\"shout-out\",\"garden\",\"replacing\",\"cracked\",\"lunch\",\"break\",\"warranty\",\"bars\",\"safari\",\"ala\",\"simplethings\",\"points\",\"saying\",\"sap\",\"delivering\",\"ready\",\"photos\",\"ah\",\"yeah\",\"option\",\"usual\",\"source\",\"carnegiemellon\",\"india\",\"management\",\"center\",\"codename\",\"always\",\"perks\",\"buy\",\"2008\",\"used\",\"gates\",\"respect\",\"talking\",\"dodged\",\"bullet\",\"acquire\",\"ex-employers\",\"arrives\",\"canada\",\"loved\",\"photo\",\"technical\",\"difficulties\",\"honor\",\"keeps\",\"sleeping\",\"soaddicted\",\"10/20\",\"excel\",\"tips\",\"alternate\",\"rows\",\"faith\",\"algorithms\",\"mission\",\"::\",\"both\",\"putting\",\"copying\",\"congrats\",\"demo\",\"fast\",\"tablet\",\"addicted\",\"upload\",\"reports\",\"crm\",\"reservation\",\"bullying\",\"arrogant\",\"inept\",\"combo\",\"biltmore\",\"presentation\",\"very\",\"however\",\"promising\",\"expected\",\"domain\",\"properly\",\"\\u00a3\",\"vat\",\"price\",\"sale\",\"yrs\",\"b\",\"virus\",\"vie\",\"growth\",\"areas\",\"gets\",\"angry\",\"ai\",\"chief\",\"executive\",\"interests\",\"25\",\"gmusic\",\"unites\",\"snom\",\"deployments\",\"uc\",\"register\",\"vars\",\"delete\",\"stuff\",\"camera\",\"1080p\",\"bill\",\"without\",\"delicious\",\"ditch\",\":p\",\"icloud\",\"hits\",\";\",\"excludes\",\"holiday\",\"advertising\",\"king\",\"basic\",\"talks\",\"2.0\",\"summit\",\"core\",\"overview\",\"lls\",\"true\",\"p\",\"rocked\",\"house\",\"barometer\",\"3d\",\"maps\",\"lmao\",\"magical\",\"dying\",\"body\",\"replies\",\"changing\",\"profile\",\"single\",\"inspiration\",\"cyanogenmod\",\"kalifornia\",\"cavi\",\"unwrapping\",\"according\",\"opens\",\"spigot\",\"windowsphone\",\"8mp\",\"\\u00b4\",\"sony\",\"cameras\",\"immediate\",\"request\",\"revenue\",\"q3\",\"96\",\"total\",\"commodity\",\"advertisers\",\"things\",\"entire\",\"slowly\",\"migrating\",\"virtualization\",\"adopted\",\"citrix\",\"mention\",\"leader\",\"intervate\",\"wins\",\"portals\",\"techedafrica\",\":(\",\"\\u2018\",\"roslyn\",\"compiler\",\"uncategorized\",\"azure\",\"hpc\",\"don\",\"yea\",\"pre-order\",\"information\",\"gay\",\"autocomplete\",\"street\",\"infosys\",\"solution\",\"partnership\",\"fine\",\"regent\",\"co\",\"story\",\"bff\",\"rite\",\"paid\",\"attacks\",\"bloody\",\"answer\",\"missed\",\"learned\",\"word\",\"moving\",\"explain\",\"differs\",\"gives\",\"access\",\"tools\",\"encrypting\",\"searches\",\"outbound\",\"clicks\",\"default\",\"ssl\",\"warning\",\"spontaneously\",\"loose\",\"might\",\"app's\",\"fault\",\"5downgrade\",\"whether\",\"showed\",\"contacts\",\"list\",\"simple\",\"deliver\",\"nuts\",\"alternative\",\"holodeck\",\"invention\",\"bummer\",\"crashing\",\"vslive\",\"bringing\",\"conference\",\"haven't\",\"due\",\"raise\",\"buzz\",\"smh\",\"cross-posted\",\"added\",\"his\",\"circles\",\"hour\",\"owns\",\"worldwide\",\"webpronews\",\"finance\",\"attributed\",\"unveils\",\"step\",\"closer\",\"interaction\",\"startup\",\"seo\",\"i've\",\"internet\",\"craving\",\"innovation\",\"sad\",\"throw\",\"longer\",\"timeline\",\"anything\",\"mouse\",\"security\",\"eharmony\",\"hope\",\"engages\",\"content\",\"activity\",\"luck\",\"nightattheroxbury\",\"november\",\"retweet\",\"follows\",\"unfollows\",\"yourlameashell\",\"tryna\",\"seem\",\"somebody\",\"important\",\"workflows\",\"start\",\"workflow\",\"careers\",\"weird\",\"smashed\",\"tired\",\"pcworld\",\"desktop\",\"plugged\",\"worked\",\"hyperv\",\"70-659\",\"99\",\"150\",\"exam\",\"voucher\",\"~\",\"services\",\"including\",\"jaiku\",\"purchase\",\"c\",\"custserv\",\"opinion\",\"da\",\"hp\",\"systemcenter\",\"money\",\"hack\",\"sem\",\"hot\",\"winning\",\"turns\",\"touchscreen\",\"reporting\",\"pre\",\"newly\",\"revamped\",\"testimonials\",\"page\",\"2.3\",\"leave\",\"poor\",\"happened\",\"others\",\"iphones\",\"16\",\"second\",\"tweeting\",\"generate\",\"website\",\"bout\",\"pull\",\"seen\",\"setup\",\"yu\",\"nd\",\"blowing\",\"functionality\",\"model\",\"concept\",\"bunch\",\"blogs\",\"thugs\",\"confusedbymytimeline\",\"trashes\",\"touts\",\"27\",\"wonder\",\"htc\",\"desire\",\"based\",\"recap\",\"host\",\"efficient\",\"fun\",\"tag\",\"removing\",\"edge\",\"switch\",\"because\",\"stuck\",\"kids\",\"sustainability\",\"mine\",\"moment\",\"mb\",\"cap\",\"25mb\",\"tells\",\"inbox\",\"waiting\",\"packed\",\"session\",\"gartnersym\",\"indicator\",\"today's\",\"mindshare\",\"blend\",\"em\",\"20\",\"person\",\"okay\",\"connected\",\"blackberry\",\"provide\",\"abstract\",\"browser\",\"limitless\",\"libraries\",\"probably\",\"introduction\",\"stage\",\"toulouse\",\"superbo\\u00eete\",\"geeks\",\"que\",\"messed\",\"reliable\",\"san\",\"francisco\",\"slow\",\"attempts\",\"succeed\",\"broke\",\"law\",\"victim\",\"racketeering\",\"victims\",\"outlaws\",\"copy\",\"long\",\"clock\",\"gplus\",\"googleplus\",\"socialnetwork\",\"massive\",\"stupid\",\"reply\",\"lolz\",\"promotion\",\"bundles\",\"create\",\"pass\",\"gen\",\"models\",\"offers\",\"public\",\"50\",\"ways\",\"classroom\",\"education\",\"doubt\",\"student\",\"blogspot\",\"wp\",\"cause\",\"losing\",\"platform\",\"sentences\",\"sqlserver\",\"occupy\",\"wall\",\"movement\",\"charts\",\"we're\",\"comment\",\"sending\",\"each\",\"scientists\",\"death\",\"less\",\"freezes\",\"9\",\"leaving\",\"smau\",\"stand\",\"trainer\",\"wpdev\",\"labs\",\"takes\",\"figure\",\"worse\",\"theoretically\",\"wasn't\",\"800\",\"renders\",\"revealed\",\"leopard\",\"image\",\"images\",\"cleaned\",\"ball\",\"rolling\",\"left\",\"twitter's\",\"discussion\",\"syncs\",\"ie\",\"firefox\",\"noticed\",\"worry\",\"jesus\",\"unknown\",\"quote\",\"engaged\",\"ecm\",\"manager\",\"hire\",\"explorer\",\"ctp\",\"sqlazure\",\"coach\",\"stevejobs\",\"brilliant\",\"run\",\"saved\",\"let's\",\"goes\",\"faster\",\"call\",\"boot\",\"propaganda\",\"become\",\"famous\",\"cast\",\"adwords\",\"wide\",\"mike\",\"mccready\",\"sounds\",\"15\",\"impact\",\"thankful\",\"incredible\",\"above\",\"beyond\",\"offering\",\"directly\",\"hi\",\"household\",\"minis\",\"airports\",\"timecapsule\",\"whats\",\"usable\",\"iphoto\",\"small\",\"must\",\"0\",\"browsers\",\"replaced\",\"gratis\",\"hairline\",\"crack\",\"70\",\"x\",\"worth\",\"smm\",\"featuring\",\"encrypted\",\"https\",\"logged\",\"improve\",\"war\",\"fab\",\"excited\",\"spanish\",\"linkedin\",\"imac\",\"bah\",\"hindi\",\"lame\",\"trip\",\"sf\",\"ii\",\"side-by-side\",\"comparison\",\"hd\",\"they're\",\"strongly\",\"dis\",\"evo\",\"europe\",\"asia\",\"rumor\",\"sizes\",\"forget\",\"record\",\"wanted\",\"he's\",\"replace\",\"siri's\",\"capabilities\",\"gmail\",\"keynotes\",\";-)\",\"scvmm\",\"e2evc\",\"understand\",\"kind\",\"monica\",\"terrible\",\"beating\",\"ain't\",\"fuckin\",\"joint\",\"tho\",\"tweeps\",\"heute\",\"statt\",\"149\",\"\\u20ac\",\"nur\",\"89,99\",\"lmfao\",\"allow\",\"texts\",\"child\",\"college\",\"audio\",\"winners\",\"found\",\"sudden\",\"calling\",\"wasting\",\"easter\",\"eggs\",\"middle\",\"bottom\",\"pulls\",\"80\",\"acct\",\"psn\",\"test\",\"hasn't\",\"thnx\",\"stock\",\"tumblr\",\"button\",\"stevejobsday\",\"4g\",\"wallet\",\"effect\",\"wireless\",\"3000\",\"hands\",\"19\",\"telling\",\"federal\",\"government\",\"corporate\",\"signups\",\"arrogance\",\"s-eye\",\"view\",\"yousendit\",\"antitrust\",\"xd\",\"ibooks\",\"3gs\",\"court\",\"cases\",\"dude\",\"suit\",\":-)\",\"lovers\",\"aapl\",\"rival\",\"pocket\",\"possible\",\"pockettouch\",\"introducing\",\"lack\",\"intune\",\"posted\",\"font\",\"notes\",\"handy\",\"you're\",\"entrepreneurs\",\"near\",\"scientst\",\"died\",\"boo\",\"argument\",\"hrs\",\"yesterday\",\"whenever\",\"earnings\",\"12\",\"introduced\",\"trending\",\"researchers\",\"stream\",\"reminder\",\"1000\",\"4000\",\"profiles\",\"ht\",\"idea\",\"bring\",\"io5\",\"you'll\",\"23\",\"crashes\",\"congratulations\",\"upgraded\",\"case\",\"hands-on\",\"twitterswag\",\"accent\",\"499\",\"spend\",\"100,000\",\"forgive\",\"hurry\",\"emoticons\",\"realized\",\"hmm\",\"plus\",\"slower\",\"proper\",\"syncing\",\"pros\",\"thinking\",\"scroll\",\"current\",\"provided\",\"huge\",\"within\",\"connect\",\"kickoff\",\"diego\",\"6:00\",\"companies\",\"attending\",\"james\",\"backup\",\"developers\",\"=)\",\"id\",\"short\",\"itpro\",\"received\",\"letter\",\"interest\",\"boring\",\"searchengine\",\"cash\",\"club\",\"calumo\",\"vidio\",\"denali\",\"dostupan\",\"e\",\"gave\",\"sense\",\"tool\",\"named\",\"october\",\"14\",\"sbs\",\"eh\",\"competition\",\"introduces\",\"marketplace\",\"input\",\"metro\",\"dnt\",\"stewart\",\"ny\",\"importance\",\"architecture\",\"retail\",\"dennis\",\"att\",\"third\",\"party\",\"taking\",\"utterly\",\"connection\",\"telegraph\",\"ads\",\"gadgets\",\";(\",\"imminent\",\"surely\",\"<3\",\"games\",\"senews\",\"you've\",\"turned\",\"trashier\",\"startpack\"],\"x\":{\"__ndarray__\":\"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\",\"dtype\":\"float32\",\"shape\":[2000]},\"y\":{\"__ndarray__\":\"E4s0QqZ4HELg1R9CDikGQu3nJkImO2LCbtAsQjItz8BNIi9CkUwKwZGuNELr/DVCMXsjQsuNjEEnfBnBGbIjQiU+wkDQx23CdmwsQq2zM0LuPi9CjE8LwQQfL0KYj/dAAlH3QSc/ScLnzDFC6XDzQdyaUEGL3GjCfeowQjF+DUKCiqq/+4wdwiBzUUHLVTNCGAKMQbBBHMKXL4o/6ygEQgCXL0K9XonBiC82QsP6K0KT1ydCv4xmQu0uHkKJtKi/Iw4XQna+BUKPBahAPPAowiyaRMLu1TNCvcMTv9LQZMK/qxJCZDOdwbg7GEJhlh5CeZhhQffcC8FBoPjBRH/KQWGokMB5r8BB5yIkQnob6EHAR4lCicfpQE6Vh0HwpgFCKL+zQDXSLELQHu7BDQWxQaZGAUKU6DVCUEQCwt9W8sHRsvVB6IwFQvjWOcJyAVrCQcwzQlh9+EGdcFJCYlcCQpFfiUDsoRtC9wlbQp567kGnjyzCcUKTQIsK7UEMv1bCJL0yQoacUsIIkiPCMCyzQbgnRMI1j03C4pF2PhAKssBwcQhCO1HdweIVG8I3wSNCBSvEv+1VF8EOGWrBFMmyQWNWLkJWQA/BwNRxQYAhIUJy77VBoM7ywNU7pcDPpefBjuFWwqPvrL5IZChCyKshwtytpEGfhhvAruUGwf9HAUDofVHCJYLOwLZzBEIAlsdA4Odbwg4TVcCyRl3CQ5oRwhEkzUArYsXBo7PfQfvInUHb/gzCq2BuQhq1Wz/V2CpChliFQjgQP0LtSFxBBUMKQnFZp0HD9LRBSMP2QTQv4kHea4TAkFMmwp8IKkJeCQRCEb8PQi/NJsLkbZvB3EfOQUmQIULV32LC7PUHQiKPK0Lk4gnCjfkzQh9BpL80kkrB3oPoQYOpC8Kn1gRCW9nOQO5yCcEGATRCn7/qQafk6kHP5upBcFjrQX4+6UF95upBBEILwWig90E23XVB/74/wklBUMLJvP7BSRLJQfEjS8KBCoRBCXU6wj5EoUEwgcBB6JYowu6qFEILICNC5rE3wpVvFMEybZNBc7AxQhdXoT4XLWbCBUzhwSs8GEKKd2VBDEmXvwTQi8G8jxZCkdtLwvrIk0Gr6f3BKmlmQpQ6QMJc8QnCg8N5v9Y0BMJuNIHBtz4DQn3WAkJfNTxBkCexQbNT3sGwJVjCfQhqwih5E0KnadvAiluwwBU/NcILjGPC1rpHwakGz0Giog3C4SYQQrcP6EGljL7Bs58/vvzHX8HaB0vBESRmweLPKkJW6M9BC5XnQQddL8LWpOhA/9I9P6q/hr6JADlBIPwMwa77B8HBCw5ChbkkwGLnxkE6qUDCT/fLQLkpR8LWojbC5+Ndwj2VA8Ixwz5BwTDMQU/f2EHZwl3Bw56OwAE1FMLkVPlBzmNPwXsH/UGXFVjCXK4UQmTGIcJRSnHBgOYIweG8pkEGdO7BtkUZQeWZeEHcu1TChpk9wquva0KAGv/BKjwQQvqkHEFt3trA7zAyQmN4HkJLG2DCc23HwaR5wEH+ogvCx/MjQqKYvkHZLk/B8M5wwc59X8JqvPg+sydVwj0eSsLq+/zBxCJuQvIYYcK2GTPBVPsQQj4I+kHyZvtB5itdwgvIEsKSHWVByC2nQQOE4kFNlC+/iH8AQjjgL8HVwu9B0D06who1ZELWtyZCu7xiwj8E80HYEsJBgvtYwvkfBkLtfUzCNMDZwf56hkG+lhLB02YywX9bW8K4YAbAieMgwss9CcK/6G3BNs9AwaeoZkKjdh3ARKJeQRcSeMCQ1aFBiF/3wPfr7EHdY3HBjcWlQfC5FEJSvYrBqD7pwYqEusHtJFfC9GAXwRi3NEDI8ITBr1yoQY2pkUGpSebBP38Xwsq8ysB+H/lBqI1uQil0NUJSSdlBf3m+Qc9EbcLtccBBLFaCweUrEcJ9uVpBYipowgpU6cHb2gfCnM5iwq8vJsJ6L0PAHksxwrp6osGVTL1BZjkuQo6BssCKG3PBepP8wfXyNL/MoX/B/t8+QV0MYMLvGExC7tLSQakIKMLgva6/9lAlwqfEYsIAMdZBpC5TwloBekByYcjBgwEvQl2nP8LGXOjBVtBCwvQGWcI/rgrCVZLjQVyiisHs2DDCi6pBwgpz0UBnnCBCKftWwisI18HX39ZBckwLwnvgkcHpIeJAM6BNwmTqSUJ2qmDCtRJZwghQJMG1lqJBywHdQA7UBULkBgnCbnlawkyiFcLoe1vBnH4OwbJ0g0HBUhfBb2fhQa90oUGjdQhBZEUfwnY19MEP0BjCnTboQRBO5UEac9/Bz61Zwto5G8A/2ObA4JfQwSYz88HClpZBZoBrwp8pIcI7ESbCwiB6wZ7S9UH0o+3BXHweQlJEDELmjyJCowQDQhc12kFbY1tBHavGQfRCPcLfCcW/wHVVwi8M8kHUHaBBheWqwCQlS8KkEEzCEP1PwVSkT8LDeKfAKowYQmnWJcFmMh9CjXu4QTCWu0GKBObBrAyGvh4PMsL2ikfCL+vkwafgTsFeSHrBrmFmwuOdZ8JofdzBVuZzQe5j5MHPJQTCgB87wGAcYsIugB1BGcBewkP7YEGaOdlAtbDewWQ8AUKv1THB98i5wJTJwUFBnmZBhOeZQdrEQsFAZATAFn7TwXEyQsAe7zPBiWmsQbRg5sEtI7tB0Uu7QI+tA8Jr52DCoGEfwnFuN0KTxrjBkKcMQcQhacLW6YBAJwJgQrIpTMIUSHHBtjIfQtsEpUHQAnHCOBAxwBrULMJtvUTCt3FPwt6uAEHsfWfADBi6wQVqLkJbUtrBd6jtwNRZOsGgmh/CzSwKwXQMYEFVBRRCW4XzwLuYL8ImoxLCNs4pwp7JN0Df6upB7JnfQQObY8LQxcjBm6EkQaunZMJo6y7Ag4B+QWREs0EBXAFBZy39QVi23EHJX0/BQFMdwZ8lpcHD9yDBe3SOQmZZxkHnvPvBAY8LwL2hKMKwfGzCnx+rQfbQZcKnjPPB7ZCCwXMPL8L4kzFAHb+JwcnPaMFEABNB+VNUQSdo+8E74mnBk2zQPw2X/0Ehy4RBQvZZwU5lXcLQSxrBjyg7wM+IxsHiQ7i+cZxlwjF+P8LY7EHCnqWDwAScS8CYjLlAZf9Cwj4ItUGahZZAa3iXv1A9AcLo1WjB2Fn4wTD2lT7YUCzCLUNRwhF1OEKVScLA9OLTwBJ9dcEeSfPBCz60QKI0MsKU9U/CdiYpQvZvjEKYBSxCoC7VQeHKncE7V/vB8wwrQgatS8IS2KhBHuvGQOqQREAnQWrCs8C4vlhBIUGaH41Bluhrwj5WXsIBv6RAFI5TwlU8/8GWoyjCr3A+wkced8GnxRVB9uiAwJWuZT+3xSNCY+I0QiiQK8L5/XfBedEZwjKerkHZokVB9+eKwOJFr8CBc+1BIBMSwrJxGMEtHwZAcbqEwVMcIcIXnjNC9aHbQYKSdcGQAAlBmkiTQeXRf0FcoINCeFobQvxvcMFMWFLCkG+EQlSSB8IOeEjC7xbVwR8nI0G3TNVAL8k9wgZ9WsHYBg3CHsZiwuYCzsAGYte/TeZ/wLUhyL8JjF7BCzUGwo0RncAbA6FBFxVNQlqAHsINg8ZBlHDrwRkp4L+yb0bBZplNQfckisE5l5FCX0eNwd6OxMEdZprBUjO+QZKHHsLbbP3BzR65voFZK8JjMCO/Wtwbv+oWpcF6l0nC3wAywuueGcJSUSLCTr0LwtPpwsHQPDNCwbq8P3HghsEOHdRBA17zQUiyDMG+ZInBLXRBQaEjM0JJNyRCdIJowo8w3cFRkgdCi1AXQjCL2kHA94dC2MXiQUyi5kGEB2lBepTxwG/bO0F/1e9AWk5ewtiF8kEgfhvBbB2fwNiNHMGcrZHBv6HqwfpZCcI+KU7BE8HtweOQy8EEJVnC+PJkwWh9WMJ8suNB9KYIwPjRmcDXArS+uBIlwnt+dEJMpu5A9w+fQBvzXMB5FSvCkUKwwIdLX8IpC/RBlmZ2QanG0sFJzThAXGKCQpCojkJJR/9BNAwXQdIQ88GuD4jBHnQuwilc38GpwHPATlQVQQQo1MCh0WG/v0AhwrhLXUJSnDlA9HOHwLUB9EFlVPxBvBIzQkLjacI4NkbCdSsqwnqtscG/Y07Ag6uuQTdyVsI76UxAUQQ/QuZtUcFIiKvAeqcuwhFsPEHk52fCpNLPwL70xUECSUDCRLOUwdWwucGM8ILBvOtrwY9CMMK9/THCXZZcwg+/DUIQ7RHA3VHswROLHcHS13hBCWmEv1rXVcF/3TzBwP5iwh0Iz8Dg0UrC4B4Nv7FRN8Kzt2PCn482wjKdD0HS4IvBj00bQReqMMHdIyjCEV5jwpQC+cHtrWTCx1Zkwsc5vsE7IBzB6KsOwlQ+W8JopT3Ct/doQiJMe0EURl3Cci0Ywj8qA8KUYTpAIPABwT/apsBgK/rBCMfXP4FWU8JQi1FBscd3QQ2kk0AbUz3B4Qf0Qdxh0kE9XfvAWNBJwd37I8Jvt5C+ES9VQQmOsr4bTfFBEiheQGenpkAbdBvC1Eotwt2d6kHjEWfC3rsCQhf380HfYB/CLQoDQEvAJsCA5jHCED0OQr6FrMDpM49CH68vQsaDMMIpe1rAmy66wPYg30HS7ihBTT8HwkV0FsHyUS3B2lBkwSE6mcGXk97Bd71hwnzw6EFJQN1BnDWAwTBLgcH49wjCjwhdwgNwJ0Kw7mTCEq+0wJ0kVsEWqpvAVAOJQdGFTMFzqGzBeh5PwdMNg8EbMy3B3gQJwUI5S8EXRbnBQma9wbdZC8EVV+3BrW4PQjyDYcLhR2zClA+4wMbuYMHZlj3BA7pBwiGeVb1l/dPAec8EwdKKScE1kqbBrocOwnX2o0AxZ8jB3jlUwrV/i0ESMBvCZgBJwmmEMEKuWDjCeoxpwQtJlEEvK2RBiiPnwYKoMMB1joLBC5NZQXy6r0DJRefAcY7MQGfBj0LXiH7AAdAAQiNnbcL3AWrB3+C5wT5/kUJaJkw/JHMDQk0Vi0IfOFdC4UeVQYZ42MDxA0PCDvZNwSUsUsGEzF7C8HIeQknSBcJ3fyZCwSbePu10EMIEmVBCKDABwo/lt8Dpasy/XGEkwVj6+cCB1ju/NfqlQU4qW8I3oqc+K/NEwkLl3cFQcJDAnpC7QVdPkEJhP4bAPq5awgL1JkJawBPCH8ZaP0F7bsKm1LZBUSFswqJXkkIPs4tBmymowJJ8BkHxTSHCBd+DwXt4rcEzkyDBWiVowcyN4UFx5eHB1zNfwsTBCMFT3fBBtph0Qgc5OcFxNmfCnqi8QQOR4kBHwWHCTr5DwpFvWcHWm3JBYT9UwVr5bkHPhoPA4dMGwtm9u8ARW2bC6bkLwUOCLEKRZ81ArOZwQpADTsKsLuBAQmXHQW9rFUJiIYxBwAGLwaZAQsFi4TjBTbbewCX6FEGkbUhCtbdOwHDiFcKwL5rBsWISwiBUvMEye1dCGc5awUxzLb/8cGHCft2xwONQOcGjXSvChoBBwq2KfsFNlf0/q6+xvg27LcHNu8DBI9pOv9I6H76aL09Cx4YUwTDIfsA+BvvAdbDzwYb+O8Lc2kfCXzSCQWctykEanRdCKW1kQkksRcJBzWfCjdRMQLNna8LC5HDB5osVQqMSEcIZ5jzCgHV7wbLDeMHrzClCTv+UwMIsO8I95mHBC8WzQTpqDELljmhBynxOwJ6UGkJ4Et4/+M9fwW97YcKVmYTB+L5SQbKeCcIxpgxASFLAwbKyQr4GtDdCEfADQY7GREIs0SvByhXAwe/CPcD1mtLBAGDUQWb1EMIC78DB43suQveQR0HtZVzC0C9AwgOaA8A66ci+Oq2BQtJwYcKsR1DC1HaPQvNmA0IX8stBvAGHQLBigcE9g+nBfSG4wDX0NcL4nGLCUdAcPsuIiMF4w0/C8DllwuOEykGBboxB746yPxhKk76ahhzCspouwqbyf8GTK9dAAR9qQrCeT8IFpP9Bag+xPhc8IMEGcLRAPQj9waTcTcG+/lDBQzsPwvRtTkHAOx7CdEdWwiSJRsCH2ZXA3veFwCtkEMLFgczBL16HQhtSbcIdZzHC4AkuQsj1OMFS9TPBna8+wrHTMcBdOmDCdrwpP94a+sDqHCPC6RruQS2fIcHa0CLCPGnpP80ejsCTEnRBuFoBwsyIgcCLWczB5zVBwpxzRMEwHD7ByEklwWaFn0Hah0fClWTYwVvMJsF3lvHBlaJmwuzYa79cJwvBDBxnwqdb0cASJTvB6jZowfONS8L5B13ChBs7P0ZwLD9B0BrASIQOwoXaP8GcDTjA1z5gQUWYQEBIkAtBL+qywatJJ8IJqVDCSZ9cwoNOQkHV0LpBinBiQsiONcLAfGDClCIvwaE+xr/FsFPCh6g4wgu4m7/fowFBkezRQfT7776efxpAUKG7wdemMcK9q23B0XVJwnK/S8IaT9XAWZRMQRZTWz9evV/CTCZAwTlx/EGHzAfBfF5twikkYkKWAY1CJ5oYQruSnkHZSYtAK1rbPmWOiMFSW2xC+N5mwLgJCr6DFDPBu5gHQmf11UEXcFlBzdKBwcmChUKn0odC9SyawU1ev0EoXkjCpapxQs/7FUIUEE/C6sSFQi1/FcJJPFvCBelowOQo7MDHIFHCFRQpQjMMasIQDUjC6Sm6wJKjX8KnOW9BFzVowEJntkHMWMFB/mIhQX4rHUIZailCX6+fwJmaVUKhjHHBM1t5wU9/LkK7fiFBLkwOQHOZ+0Eu/eBBbdX4wSuUMUIMxWjCaNJJQTdeMcGPq0dC4YyRQZAYir+etypCjSVHwUxFZEKVoCdCiGqmQV4KLMEWXELCX0RlQrMF8EFud+JBEDs3wqmxnMHWMgjA2MEBwUaXm8AsCqnA8AkZwGivYsGcpATB2kQpws5L8T/Bx2jAcbNjQTIbgEHJ8zhA+I5JwF+wUsGIR+TBm+bWQQdtMcEN4GPCLTwHQohriULqEGnBUlROQigFYMJWpYVC6/7tQaZWRcAX19fAqgkjQmqgkr9gwElClwklQpWdXcIQhQ/CdF6/wRXMXcLy90HBXYl5wVdPb8Gb7fvB9BZBwqKBecGJ9PTBTud1P5M08EEPtY9CjtYPwrXETcHpwTnCiK38QZI+X8IgAVpA3sy/Qer/e0HfKABC0ktWwczlA8JrNGw+528LwVuSkEHJ2WtCyE6CP4sedkIY0WFCftWVQP9pFMFNwYBBvfpgQbUgZ8FNr79BTnfFwdJr9kH9hjnAXqrAv/19FULGpZHA8I41QhKolEFVrRJCa3lrPefqakI1+oTBeAakQLNySMJLcUzBEg0lv+GucsH0h/dB9qlkQmqxqkFl6EHCGc9+wQ/6VMGz1VfCnNtSQexiKEJF3F3CL77LwPaC+kGw/jDCSzIcwfyJrUBpGXbAy4F5QcQQzkBWlyjA4qEBwubV4sA4Al3AEbYnwut6g8FY5/PB7i4qwUxrgkEtuTvApMKKQgrxVMBYUQVCRFs+QuIr7cHih4pCOZ5kQo1tNMItqShCKS60wZiwHUGaM7nALEkAwWpRlkFCzUDC8sHKQZjGX0J7hbPAUNOewRWrQcGjBcY+IQbKwYM79kEL4YXA0vF2wd3oVcJqhbTA4BXPPlYlNcG6okjCgihPwC10XML71bXBJOeKwZx2CsFVQmHAxaHhQa07c8FOloLBeERKwvaEt0Efte9AOdI8Qkh538C5EvjBkXrTwcrhYMGJ41jAHoqNQvH6gkI1dVxC7j7cQVklGEIhChhC/wgHQbax9MBiIB9CyRjqwNsTAELofdfA4HUAQut7/cExG5xBXxKQQkjaT8F3iSXCfW5JQmcd/MEZ4HdBaLPWwZqYHcD+cKa/CfY6wX5FVUHDzQTCmVEvwm7ehkAF/ulBc0+ZwZ2dSsHlY56/aN6HQvANn0HgLFHBZ4ygQSzJLkDdINhBiM6IQha/5MExrRNCkJqRQoEhcD+AuZy/xfZWwqGM+kE8m3RC6VyHQpZhmsFdcNC/NfRlwRXUS8CuofzAQx0pwYfbEsGep1nB9QE1wlpZ48DlKy/CtjJ5QXv9M0IOlyJCWTqOQoP01cE5WQNC3NpkwR+jqkH+XhlCxw+AwF110kCE+HNCR5HXQBQs18DAEu1BNb6YwRO+WsK2KNzBmoEVwN2KJsGUfEHCv+yKQkkXh0K4DLDBIV0NQnIwQ8HgorNAMqtRwsQK58As3tO/1Dw6wkVHtMDwrl3CMV+jQQio5UH5Wt++9oZYwIhTQT5U6WDCQXc6wczyQkEMsgZB3yGIwd+GMsB9rmnCxzk8wLn+wb+Qq06/J0ZxQkEgKsK9Pt4/pD06wi4jHb9/S1/B0P1GwathvEGJMvtBN/J2QXAZib77e7VA0hQuwLpx/kEujbFBZHXYQaOlxUCxdO5Bp7AkQgUKj8ApgPDA8ioTQnqo5UGX8CpCGh2PQj7KREL5ksPBZG9gQrVfhkJ4WgBBxX8DQhk6McLG7kZCJkIXwIgRDULz0r9Bn2s4Qt75T8AW1o9B3+03we80YMHAwspBjubywfQUbEJ+lUDABmDSv4Z8k0FRlmPCzIUwQp8JE0JafrlBzE1pwN8NP0EqJTRCwqrXQQ7UZEIhwohCWA8dwdNbGsHXHEvB0M6YQN//Q0JOG/pB9Pa9wPskR8GDlEfBElYrwh3a4cBGpbVBOvJzQjBJRsJtbSLBmABcwdJP1D+IjhvBzOm9QYPZz0EMf4dBrhZqwWHIm79exYNAn2+eQRm7W8Ha2ItCjQ8swjafJsJiOy3CoJcAQgE5G8ENipNB6OoMQveZAkK/ZOxBZZo9wbnJdsHBw8m/nkivQFQpBUDgs7fB62xhwiHCxkGHA4JC3KDqwbB0zkEyqj6/K04aweBs8b9U9tXA9PVVwLFIhsCaSyRCQJJGwhRzV8Eee9zAQy0WwniUoL40gaLAWI6MQVyk6MCzPiXB1e/eQS6lv0GgnCA//4oVQgeU67+5ZFNB1HDZQSSsH0Jhs+VBxaqlv6fTSMEV6BFCbXoKQg16X8GB8P9BFcYZQoG/HMJmhQjBdetIweIv1UF/kCVCle1YQvwI2UEvcnjB06ciQSTZScFKYW1BWfFHQiCAg0L+ro5BnBb2QeSFiUIdom/BI4KbwNrMh79MECDAZYMDQjg1esG3a2/BfEsUQXDUi8HMqSfCN2DMwCCtEkIU+GTCezEHQp4caUJ7D/lBPqsTQN4JC0AMyhlCXqtlwtMK30HRfGpCCFXDQUjAYUJrxrfAr9wtwge4scDLLOfAewMIwQdJY0JGNDXCTpzLQIpaD0Lzn+RBkz9CwfTyDsHDaJrA23GMQN0KFELQe49BsE/IQb2gWcGx06q/uC1YwK+TPsGUipo/+QUyQU9EasLMddDA/w3UQRn0gMHJxS7BhBvdwAnwocAHc5BCtOzcwT84WsHVbmHBxAr9wLKXHkJdcCxCDWOEwN6rWUFsR7HBfuyQQhpLMsH5vSFBDowtQp9kbkLbaB1CBiUGQmbP10GdbIlChWmPQuc6uMH10wXBGEy6wOxLMUBAvVVB6CJkwSgKacKZbwVCC5bpP2Yf6UH7y01CdqRxQSGAx8CBVWdB2P3qQIZ+PcHbWQVCF4hGwWj0msEbqkHBxLhZwXYTAMHnF4hCER0/QuUKckL14n9COna7vZbhYsEkzVdC7FZ3wU/P+z47vlZBF82wwJsnNUJS9nBCHZJEwczl08HJ+WLCZmgywG1/WMFHYpJCeyfiQaYNA8C6zXPBUYcvQhiU6MA06ItCiNBqwYRYYkKXpizC+FwtQsPjA8EVMArBhJYAQM7Pn8E2h2HAsQ6EQqIeycDcb9lB9T1iwp629b8LAxZCxC0aQgOSQELJ54nBMPGaQYGHBkIWP9HAY+AfQog1MsHsSwNCHe6JQvwNAj59ukBCK4iJQsjPR0J4itBB0CcCQslkJUIzMwrBXJOxwOpgdMCHLJzASExQQhqlXUEU0fFBjEoGQsp0AEJULhjBamITQS0KEUKldMjBadBdQh7dAELo5jjBmZSJwHbqRz9aFytC9MeDQiIa4EFN3yZCe0kjwajIOkKnkEZCnc/AwdW5/z8Y5blB2gt1QqpjyUF6yoRClLiCQplyc8EuOdVAJq8aQsw0Rz7y3bXBa7fvQXY2NsFMONxB/IGEQnpMZUI3EFHBjIX2wA4eiEJVt5FC070QwHpTZcAObMZBlACLQgahg0EGQoZCmq2KwVK5zEGSKkTBmu47v/2CtUGa9URBiSdjwa7edsAkI0lCzE1FQtw7L0K4e0VCDAOSQr3mi0IBuxTB24ZLQrgBksCTwqVBcMQcQoLSacIEwDtAJgBWQaUivkHNHibB5Ry/P5+XnUGPnWDArtSEwalcCMDRwhBCY2saQuvrKsAdxcNBtpuPwBHRS0KfACBC6IUhQn7ZYUIVe7TAH0lZwQXhGEJPsUZC0B9fwVbIGcFdRAU/VvlZwlb6rMCyl2TBZt4eQr/iucEM6KlBPdZ/QrK8JcJ6FHhC12iJv6sDtT/mJGnBhygZQrTj/0GSRwTBASMvQgouOcLU9RzCfaUsQYlX1b9xcdXAIpVNwaW7K8EJL7nArCnqQR4HIEL1ZCHB4mLtPhsAFUIwq3ZBb5/5QdU+MUKiV/5BUqIxQs2eEUKFfafBon4IQdh2N8G4Q+ZB4CyQQhvOjcEXzCRConkUQh55SkE=\",\"dtype\":\"float32\",\"shape\":[2000]}},\"selected\":{\"id\":\"1033\"},\"selection_policy\":{\"id\":\"1032\"}},\"id\":\"1025\",\"type\":\"ColumnDataSource\"},{\"attributes\":{\"active_drag\":\"auto\",\"active_inspect\":\"auto\",\"active_multi\":null,\"active_scroll\":\"auto\",\"active_tap\":\"auto\",\"tools\":[{\"id\":\"1013\"},{\"id\":\"1014\"},{\"id\":\"1015\"},{\"id\":\"1016\"},{\"id\":\"1017\"}]},\"id\":\"1019\",\"type\":\"Toolbar\"},{\"attributes\":{},\"id\":\"1005\",\"type\":\"DataRange1d\"},{\"attributes\":{},\"id\":\"1032\",\"type\":\"UnionRenderers\"},{\"attributes\":{\"data_source\":{\"id\":\"1025\"},\"glyph\":{\"id\":\"1027\"},\"hover_glyph\":null,\"muted_glyph\":null,\"nonselection_glyph\":{\"id\":\"1028\"},\"selection_glyph\":null,\"view\":{\"id\":\"1030\"}},\"id\":\"1029\",\"type\":\"GlyphRenderer\"},{\"attributes\":{\"fill_color\":{\"value\":\"#1f77b4\"},\"line_color\":{\"value\":\"#1f77b4\"},\"x\":{\"field\":\"x\"},\"y\":{\"field\":\"y\"}},\"id\":\"1027\",\"type\":\"Scatter\"},{\"attributes\":{\"text\":\"A map of 2659 word vectors\"},\"id\":\"1003\",\"type\":\"Title\"},{\"attributes\":{},\"id\":\"1007\",\"type\":\"DataRange1d\"},{\"attributes\":{},\"id\":\"1013\",\"type\":\"PanTool\"},{\"attributes\":{\"overlay\":{\"id\":\"1018\"}},\"id\":\"1015\",\"type\":\"BoxZoomTool\"},{\"attributes\":{},\"id\":\"1033\",\"type\":\"Selection\"},{\"attributes\":{},\"id\":\"1016\",\"type\":\"ResetTool\"},{\"attributes\":{\"source\":{\"id\":\"1025\"}},\"id\":\"1030\",\"type\":\"CDSView\"},{\"attributes\":{},\"id\":\"1011\",\"type\":\"LinearScale\"}],\"root_ids\":[\"1002\"]},\"title\":\"Bokeh Application\",\"version\":\"2.0.2\"}};\n",
       "  var render_items = [{\"docid\":\"5a7e58ce-bf94-4467-beab-0e45db52cf58\",\"root_ids\":[\"1002\"],\"roots\":{\"1002\":\"c082dc77-1742-4bb7-a666-9cbf250015b8\"}}];\n",
       "  root.Bokeh.embed.embed_items_notebook(docs_json, render_items);\n",
       "\n",
       "  }\n",
       "  if (root.Bokeh !== undefined) {\n",
       "    embed_document(root);\n",
       "  } else {\n",
       "    var attempts = 0;\n",
       "    var timer = setInterval(function(root) {\n",
       "      if (root.Bokeh !== undefined) {\n",
       "        clearInterval(timer);\n",
       "        embed_document(root);\n",
       "      } else {\n",
       "        attempts++;\n",
       "        if (attempts > 100) {\n",
       "          clearInterval(timer);\n",
       "          console.log(\"Bokeh: ERROR: Unable to run BokehJS code because BokehJS library is missing\");\n",
       "        }\n",
       "      }\n",
       "    }, 10, root)\n",
       "  }\n",
       "})(window);"
      ],
      "application/vnd.bokehjs_exec.v0+json": ""
     },
     "metadata": {
      "application/vnd.bokehjs_exec.v0+json": {
       "id": "1002"
      }
     },
     "output_type": "display_data"
    }
   ],
   "source": [
    "# plotting. the corresponding word appears when you hover on the data point.\n",
    "plot_tfidf.scatter(x='x', y='y', source=tsne_df)\n",
    "hover = plot_tfidf.select(dict(type=HoverTool))\n",
    "hover.tooltips={\"word\": \"@words\"}\n",
    "show(plot_tfidf)"
   ]
  }
 ],
 "metadata": {
  "kernelspec": {
   "display_name": "Python 3",
   "language": "python",
   "name": "python3"
  },
  "language_info": {
   "codemirror_mode": {
    "name": "ipython",
    "version": 3
   },
   "file_extension": ".py",
   "mimetype": "text/x-python",
   "name": "python",
   "nbconvert_exporter": "python",
   "pygments_lexer": "ipython3",
   "version": "3.6.10"
  }
 },
 "nbformat": 4,
 "nbformat_minor": 4
}
